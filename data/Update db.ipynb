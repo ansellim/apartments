{
 "cells": [
  {
   "cell_type": "code",
   "execution_count": 1,
   "metadata": {},
   "outputs": [],
   "source": [
    "import sqlite3\n",
    "import pandas as pd\n",
    "\n",
    "# Create your connection.\n",
    "cnx = sqlite3.connect('database.db')\n",
    "\n",
    "# read into df\n",
    "df = pd.read_sql_query(\"SELECT * FROM properties\", cnx)"
   ]
  },
  {
   "cell_type": "code",
   "execution_count": 2,
   "metadata": {},
   "outputs": [],
   "source": [
    "# 'raw_num_other_public_sports_facility'\t1, >=2\n",
    "# 'raw_num_park'\t1,2,3,>=4\n",
    "# 'raw_num_primary_school'\t1,2,3,>=4\n",
    "# 'raw_num_secondary_school'\t1,2,3,>=4\n",
    "# 'raw_num_supermarket'\t1-3,4-5,6-7,>=8\n",
    " \n",
    "bins = [0, 1, 2, 99]\n",
    "labels = [0, 0.5, 1]\n",
    "df['num_other_public_sports_facility'] = pd.cut(df['raw_num_other_public_sports_facility'], right=False, bins=bins, labels=labels)\n",
    "\n",
    "bins = [0, 1, 2, 3, 4, 99]\n",
    "labels = [0, 0.25, 0.5, 0.75, 1]\n",
    "df['num_park'] = pd.cut(df['raw_num_park'], right=False, bins=bins, labels=labels)\n",
    "df['num_primary_school'] = pd.cut(df['raw_num_primary_school'], right=False, bins=bins, labels=labels)\n",
    "df['num_secondary_school'] = pd.cut(df['raw_num_secondary_school'], right=False, bins=bins, labels=labels)\n",
    "\n",
    "bins = [0, 1, 4, 6, 8, 99]\n",
    "labels = [0, 0.25, 0.5, 0.75, 1]\n",
    "df['num_supermarket'] = pd.cut(df['raw_num_supermarket'], right=False, bins=bins, labels=labels)\n",
    "\n",
    "# df.head()\n"
   ]
  },
  {
   "cell_type": "code",
   "execution_count": 3,
   "metadata": {},
   "outputs": [],
   "source": [
    "# overwrite existing db\n",
    "df.to_sql(name='properties', index=False, if_exists='replace', con=cnx)"
   ]
  },
  {
   "cell_type": "code",
   "execution_count": null,
   "metadata": {},
   "outputs": [],
   "source": []
  }
 ],
 "metadata": {
  "interpreter": {
   "hash": "48963290649eda888486209d74344cfc30b182207cf16160072e557326cbda71"
  },
  "kernelspec": {
   "display_name": "Python 3.6.10 64-bit ('ml4t': conda)",
   "language": "python",
   "name": "python3"
  },
  "language_info": {
   "codemirror_mode": {
    "name": "ipython",
    "version": 3
   },
   "file_extension": ".py",
   "mimetype": "text/x-python",
   "name": "python",
   "nbconvert_exporter": "python",
   "pygments_lexer": "ipython3",
   "version": "3.6.10"
  },
  "orig_nbformat": 4
 },
 "nbformat": 4,
 "nbformat_minor": 2
}

{
 "cells": [
  {
   "cell_type": "markdown",
   "metadata": {},
   "source": [
    "# Scoring public housing (HDB) data: calculation of number of amenities in the vicinity\n",
    "\n",
    "Ansel Lim\n",
    "\n",
    "4 November 2021, updated Dec 2021"
   ]
  },
  {
   "cell_type": "markdown",
   "metadata": {},
   "source": [
    "HDB flats are public housing apartments in Singapore. Given HDB dataset combined with latitude & longitude information, as well as coordinate data for various amenities / places of interest (taxi stands, schools, mrt, hawker centers, etc.), calculate counts of amenities within a 1km radius *for each HDB block*."
   ]
  },
  {
   "cell_type": "code",
   "execution_count": 1,
   "metadata": {
    "executionInfo": {
     "elapsed": 15,
     "status": "ok",
     "timestamp": 1635999347249,
     "user": {
      "displayName": "Ansel Lim",
      "photoUrl": "https://lh3.googleusercontent.com/a/default-user=s64",
      "userId": "11711723797633555065"
     },
     "user_tz": -480
    },
    "id": "_LSEiCXWYygY"
   },
   "outputs": [],
   "source": [
    "# Specify radius in kilometers\n",
    "RADIUS = 1.0"
   ]
  },
  {
   "cell_type": "code",
   "execution_count": 2,
   "metadata": {
    "executionInfo": {
     "elapsed": 15,
     "status": "ok",
     "timestamp": 1635999347249,
     "user": {
      "displayName": "Ansel Lim",
      "photoUrl": "https://lh3.googleusercontent.com/a/default-user=s64",
      "userId": "11711723797633555065"
     },
     "user_tz": -480
    },
    "id": "DMewjeMCLav4"
   },
   "outputs": [],
   "source": [
    "import os\n",
    "import time\n",
    "from datetime import datetime\n",
    "import pandas as pd\n",
    "from geopy.distance import geodesic"
   ]
  },
  {
   "cell_type": "code",
   "execution_count": 3,
   "metadata": {
    "colab": {
     "base_uri": "https://localhost:8080/"
    },
    "executionInfo": {
     "elapsed": 15,
     "status": "ok",
     "timestamp": 1635999347249,
     "user": {
      "displayName": "Ansel Lim",
      "photoUrl": "https://lh3.googleusercontent.com/a/default-user=s64",
      "userId": "11711723797633555065"
     },
     "user_tz": -480
    },
    "id": "3bcBAXi8KgpW",
    "outputId": "cb746dc3-55bb-4dd8-e243-45506d5bcc4c"
   },
   "outputs": [
    {
     "name": "stdout",
     "output_type": "stream",
     "text": [
      "04/12/2021 17:06:53\n"
     ]
    }
   ],
   "source": [
    "timestamp = datetime.now().strftime(\"%d/%m/%Y %H:%M:%S\")\n",
    "print(timestamp)  # GMT"
   ]
  },
  {
   "cell_type": "markdown",
   "metadata": {
    "pycharm": {
     "name": "#%% md\n"
    }
   },
   "source": [
    "Load raw datasets"
   ]
  },
  {
   "cell_type": "code",
   "execution_count": 4,
   "metadata": {
    "pycharm": {
     "name": "#%%\n"
    }
   },
   "outputs": [],
   "source": [
    "os.chdir(\"../data/raw/\")"
   ]
  },
  {
   "cell_type": "code",
   "execution_count": 5,
   "metadata": {
    "executionInfo": {
     "elapsed": 684,
     "status": "ok",
     "timestamp": 1635999347929,
     "user": {
      "displayName": "Ansel Lim",
      "photoUrl": "https://lh3.googleusercontent.com/a/default-user=s64",
      "userId": "11711723797633555065"
     },
     "user_tz": -480
    },
    "id": "NoL96XWB9rPY"
   },
   "outputs": [],
   "source": [
    "# Use `hdb_aggregated.csv` (that is, apartments in the same block are considered as belonging to the same project, so we aggregate data on a block-by-block basis rather than looking at every single apartment)\n",
    "\n",
    "# Amenities\n",
    "hdb = pd.read_csv(\"./hdb_aggregated.csv\")\n",
    "malls = pd.read_csv(\"./data_malls.csv\")\n",
    "taxi_stands = pd.read_csv(\"./taxi_stands.csv\")\n",
    "primary_schools = pd.read_csv(\"./data_prischools.csv\")\n",
    "mrt = pd.read_csv(\"./data_MRT.csv\")\n",
    "hawker = pd.read_csv(\"./data_hawker.csv\")\n",
    "carparks = pd.read_csv(\"./carparks.csv\")\n",
    "bus_stops = pd.read_csv(\"./bus_stops.csv\")\n",
    "amenities = pd.read_csv(\"./amenities.csv\")\n",
    "supermarkets = pd.read_csv(\"./supermarkets.csv\")\n",
    "secondary_schools = pd.read_csv(\"./secondary_schools.csv\")\n",
    "eating_establishments = pd.read_csv(\"./eating_establishments.csv\")\n",
    "parks = pd.read_csv(\"./parks.csv\")"
   ]
  },
  {
   "cell_type": "code",
   "execution_count": 6,
   "metadata": {
    "colab": {
     "base_uri": "https://localhost:8080/"
    },
    "executionInfo": {
     "elapsed": 26,
     "status": "ok",
     "timestamp": 1635999347930,
     "user": {
      "displayName": "Ansel Lim",
      "photoUrl": "https://lh3.googleusercontent.com/a/default-user=s64",
      "userId": "11711723797633555065"
     },
     "user_tz": -480
    },
    "id": "zIQ1muIs_wwb",
    "outputId": "9ee6a099-95e3-43f2-d2c4-a5cbbbf24bf7"
   },
   "outputs": [
    {
     "name": "stdout",
     "output_type": "stream",
     "text": [
      "Number of HDB blocks in dataset 9148\n"
     ]
    }
   ],
   "source": [
    "print(\"Number of HDB blocks in dataset\",hdb.shape[0])"
   ]
  },
  {
   "cell_type": "markdown",
   "metadata": {
    "colab": {
     "base_uri": "https://localhost:8080/",
     "height": 417
    },
    "executionInfo": {
     "elapsed": 22,
     "status": "ok",
     "timestamp": 1635999347932,
     "user": {
      "displayName": "Ansel Lim",
      "photoUrl": "https://lh3.googleusercontent.com/a/default-user=s64",
      "userId": "11711723797633555065"
     },
     "user_tz": -480
    },
    "id": "95zlNEBfAfeG",
    "outputId": "10ce3299-7933-43f9-bab0-90ef0ba5775e",
    "pycharm": {
     "name": "#%% md\n"
    }
   },
   "source": [
    "Only use the HDB blocks with latitude and longitude information available"
   ]
  },
  {
   "cell_type": "code",
   "execution_count": 7,
   "metadata": {
    "executionInfo": {
     "elapsed": 20,
     "status": "ok",
     "timestamp": 1635999347933,
     "user": {
      "displayName": "Ansel Lim",
      "photoUrl": "https://lh3.googleusercontent.com/a/default-user=s64",
      "userId": "11711723797633555065"
     },
     "user_tz": -480
    },
    "id": "C8x7TPRi_yYE"
   },
   "outputs": [],
   "source": [
    "hdb = hdb[(hdb[\"isLatLongAvailable\"] == True)]\n",
    "hdb.reset_index(inplace=True)"
   ]
  },
  {
   "cell_type": "code",
   "execution_count": 8,
   "metadata": {
    "colab": {
     "base_uri": "https://localhost:8080/"
    },
    "executionInfo": {
     "elapsed": 19,
     "status": "ok",
     "timestamp": 1635999347933,
     "user": {
      "displayName": "Ansel Lim",
      "photoUrl": "https://lh3.googleusercontent.com/a/default-user=s64",
      "userId": "11711723797633555065"
     },
     "user_tz": -480
    },
    "id": "KHQQ2YK-ATqd",
    "outputId": "3d81354e-b331-4382-d95e-634a6197fab5"
   },
   "outputs": [
    {
     "name": "stdout",
     "output_type": "stream",
     "text": [
      "Number of HDB blocks in dataset with latitude & longitude data 9126\n"
     ]
    }
   ],
   "source": [
    "print(\"Number of HDB blocks in dataset with latitude & longitude data\",hdb.shape[0])"
   ]
  },
  {
   "cell_type": "markdown",
   "metadata": {
    "pycharm": {
     "name": "#%% md\n"
    }
   },
   "source": [
    "The datasets are from different sources. Some datasets store the latitude and longitude data in a \"Coordinates\" column, so we need to harmonize the column names."
   ]
  },
  {
   "cell_type": "code",
   "execution_count": 9,
   "metadata": {
    "executionInfo": {
     "elapsed": 14,
     "status": "ok",
     "timestamp": 1635999347935,
     "user": {
      "displayName": "Ansel Lim",
      "photoUrl": "https://lh3.googleusercontent.com/a/default-user=s64",
      "userId": "11711723797633555065"
     },
     "user_tz": -480
    },
    "id": "w08fiCbSQBhz"
   },
   "outputs": [],
   "source": [
    "taxi_stands[\"lat\"], taxi_stands[\"long\"] = taxi_stands[\"Latitude\"], taxi_stands[\"Longitude\"]\n",
    "primary_schools[['long', 'lat']] = primary_schools['coordinates'].str.split(',', 1, expand=True)\n",
    "mrt[['long', 'lat']] = mrt['Coordinates'].str.split(',', 1, expand=True)\n",
    "hawker[['long', 'lat']] = hawker['Coordinates'].str.split(',', 1, expand=True)\n",
    "hawker['lat'] = hawker['lat'].str.rstrip(\",0.0\")\n",
    "carparks['lat'], carparks['long'] = carparks['latitude'], carparks['longitude']\n",
    "bus_stops['lat'], bus_stops['long'] = bus_stops['Latitude'], bus_stops['Longitude']"
   ]
  },
  {
   "cell_type": "markdown",
   "metadata": {
    "pycharm": {
     "name": "#%% md\n"
    }
   },
   "source": [
    "The `amenities.csv` file contains information about CHAS clinics (subsidized healthcare facilities), sports facilities (gyms, swimming pools, etc.), and community centers."
   ]
  },
  {
   "cell_type": "code",
   "execution_count": 10,
   "metadata": {
    "executionInfo": {
     "elapsed": 14,
     "status": "ok",
     "timestamp": 1635999347935,
     "user": {
      "displayName": "Ansel Lim",
      "photoUrl": "https://lh3.googleusercontent.com/a/default-user=s64",
      "userId": "11711723797633555065"
     },
     "user_tz": -480
    },
    "id": "7jRRXch896SA"
   },
   "outputs": [],
   "source": [
    "sports_facility_types = list(amenities.facility_type.unique())\n",
    "sports_facility_types.remove('CHAS Clinic')\n",
    "sports_facility_types.remove('Community Centre')\n",
    "chas_clinics = amenities[amenities['facility_type'] == 'CHAS Clinic'].reset_index()\n",
    "sports_facilities = amenities[amenities['facility_type'].isin(sports_facility_types)].reset_index()\n",
    "community_centers = amenities[amenities['facility_type'] == 'Community Centre'].reset_index()"
   ]
  },
  {
   "cell_type": "code",
   "execution_count": 11,
   "metadata": {
    "executionInfo": {
     "elapsed": 14,
     "status": "ok",
     "timestamp": 1635999347936,
     "user": {
      "displayName": "Ansel Lim",
      "photoUrl": "https://lh3.googleusercontent.com/a/default-user=s64",
      "userId": "11711723797633555065"
     },
     "user_tz": -480
    },
    "id": "dV1nLr4k99K6"
   },
   "outputs": [],
   "source": [
    "places = [malls, taxi_stands, primary_schools, mrt, hawker, carparks, bus_stops, chas_clinics, sports_facilities,\n",
    "          community_centers, supermarkets, secondary_schools, eating_establishments, parks]\n",
    "places_names = ['malls', 'taxi_stands', 'primary_schools', 'mrt', 'hawker', 'carparks', 'bus_stops', 'chas_clinics',\n",
    "                'sports_facilities', 'community_centers', 'supermarkets', 'secondary_schools', 'eating_establishments',\n",
    "                'parks']"
   ]
  },
  {
   "cell_type": "code",
   "execution_count": 12,
   "metadata": {
    "executionInfo": {
     "elapsed": 13,
     "status": "ok",
     "timestamp": 1635999347936,
     "user": {
      "displayName": "Ansel Lim",
      "photoUrl": "https://lh3.googleusercontent.com/a/default-user=s64",
      "userId": "11711723797633555065"
     },
     "user_tz": -480
    },
    "id": "tiK5gpAUBgPB"
   },
   "outputs": [],
   "source": [
    "df = hdb.copy(deep=True)"
   ]
  },
  {
   "cell_type": "code",
   "execution_count": null,
   "metadata": {
    "colab": {
     "background_save": true,
     "base_uri": "https://localhost:8080/",
     "height": 1000
    },
    "executionInfo": {
     "elapsed": 3455109,
     "status": "error",
     "timestamp": 1636002803032,
     "user": {
      "displayName": "Ansel Lim",
      "photoUrl": "https://lh3.googleusercontent.com/a/default-user=s64",
      "userId": "11711723797633555065"
     },
     "user_tz": -480
    },
    "id": "Jpr3oPbl9_t_"
   },
   "outputs": [
    {
     "name": "stdout",
     "output_type": "stream",
     "text": [
      "-------------------------\n",
      "Working on feature dataframe malls\n",
      "Number of places of interest: 169\n",
      "Estimated number of pairwise computations: 1542294\n",
      "Saved checkpoint\n",
      "Completed working on feature dataframe malls\n",
      "Time taken for this feature dataframe (seconds): 263.35767793655396\n",
      "Total time elapsed since start (seconds): 263.3577148914337\n",
      "-------------------------\n",
      "Working on feature dataframe taxi_stands\n",
      "Number of places of interest: 279\n",
      "Estimated number of pairwise computations: 2546154\n",
      "Saved checkpoint\n",
      "Completed working on feature dataframe taxi_stands\n",
      "Time taken for this feature dataframe (seconds): 438.12201714515686\n",
      "Total time elapsed since start (seconds): 701.4797530174255\n",
      "-------------------------\n",
      "Working on feature dataframe primary_schools\n",
      "Number of places of interest: 186\n",
      "Estimated number of pairwise computations: 1697436\n",
      "Saved checkpoint\n",
      "Completed working on feature dataframe primary_schools\n",
      "Time taken for this feature dataframe (seconds): 296.4494049549103\n",
      "Total time elapsed since start (seconds): 997.9295489788055\n",
      "-------------------------\n",
      "Working on feature dataframe mrt\n",
      "Number of places of interest: 189\n",
      "Estimated number of pairwise computations: 1724814\n",
      "Saved checkpoint\n",
      "Completed working on feature dataframe mrt\n",
      "Time taken for this feature dataframe (seconds): 298.0875427722931\n",
      "Total time elapsed since start (seconds): 1296.0174379348755\n",
      "-------------------------\n",
      "Working on feature dataframe hawker\n",
      "Number of places of interest: 119\n",
      "Estimated number of pairwise computations: 1085994\n",
      "Saved checkpoint\n",
      "Completed working on feature dataframe hawker\n",
      "Time taken for this feature dataframe (seconds): 186.4754569530487\n",
      "Total time elapsed since start (seconds): 1482.4929149150848\n",
      "-------------------------\n",
      "Working on feature dataframe carparks\n",
      "Number of places of interest: 500\n",
      "Estimated number of pairwise computations: 4563000\n",
      "Saved checkpoint\n",
      "Completed working on feature dataframe carparks\n",
      "Time taken for this feature dataframe (seconds): 766.5749001502991\n",
      "Total time elapsed since start (seconds): 2249.0678339004517\n",
      "-------------------------\n",
      "Working on feature dataframe bus_stops\n",
      "Number of places of interest: 500\n",
      "Estimated number of pairwise computations: 4563000\n",
      "Saved checkpoint\n",
      "Completed working on feature dataframe bus_stops\n",
      "Time taken for this feature dataframe (seconds): 760.2689759731293\n",
      "Total time elapsed since start (seconds): 3009.3368248939514\n",
      "-------------------------\n",
      "Working on feature dataframe chas_clinics\n",
      "Number of places of interest: 1167\n",
      "Estimated number of pairwise computations: 10650042\n",
      "Saved checkpoint\n",
      "Completed working on feature dataframe chas_clinics\n",
      "Time taken for this feature dataframe (seconds): 1710.8387389183044\n",
      "Total time elapsed since start (seconds): 4720.175581932068\n",
      "-------------------------\n",
      "Working on feature dataframe sports_facilities\n",
      "Number of places of interest: 194\n",
      "Estimated number of pairwise computations: 1770444\n",
      "Saved checkpoint\n",
      "Completed working on feature dataframe sports_facilities\n",
      "Time taken for this feature dataframe (seconds): 292.8727090358734\n",
      "Total time elapsed since start (seconds): 5013.048306941986\n",
      "-------------------------\n",
      "Working on feature dataframe community_centers\n",
      "Number of places of interest: 120\n",
      "Estimated number of pairwise computations: 1095120\n",
      "Saved checkpoint\n",
      "Completed working on feature dataframe community_centers\n",
      "Time taken for this feature dataframe (seconds): 182.05145382881165\n",
      "Total time elapsed since start (seconds): 5195.099782943726\n",
      "-------------------------\n",
      "Working on feature dataframe supermarkets\n",
      "Number of places of interest: 607\n",
      "Estimated number of pairwise computations: 5539482\n",
      "Saved checkpoint\n",
      "Completed working on feature dataframe supermarkets\n",
      "Time taken for this feature dataframe (seconds): 926.2363350391388\n",
      "Total time elapsed since start (seconds): 6121.336137056351\n",
      "-------------------------\n",
      "Working on feature dataframe secondary_schools\n",
      "Number of places of interest: 137\n",
      "Estimated number of pairwise computations: 1250262\n",
      "Saved checkpoint\n",
      "Completed working on feature dataframe secondary_schools\n",
      "Time taken for this feature dataframe (seconds): 209.3023819923401\n",
      "Total time elapsed since start (seconds): 6330.638539075851\n",
      "-------------------------\n",
      "Working on feature dataframe eating_establishments\n",
      "Number of places of interest: 34378\n",
      "Estimated number of pairwise computations: 313733628\n"
     ]
    }
   ],
   "source": [
    "start = time.time()\n",
    "interm = time.time()\n",
    "for i in range(len(places)):\n",
    "    dataframe = places[i]\n",
    "    dataframe.reset_index(inplace=True)\n",
    "    place_name = places_names[i]\n",
    "    print(\"-------------------------\")\n",
    "    print(\"Working on feature dataframe {}\".format(place_name))\n",
    "    print(\"Number of places of interest:\", dataframe.shape[0])\n",
    "    print(\"Estimated number of pairwise computations:\", dataframe.shape[0] * df.shape[0])\n",
    "    new_column_name = \"num_\" + place_name\n",
    "    df[new_column_name] = 0\n",
    "    for i in range(df.shape[0]):\n",
    "        lat1 = df.loc[i, \"lat\"]\n",
    "        long1 = df.loc[i, \"long\"]\n",
    "        origin = (lat1, long1)\n",
    "        counter = 0\n",
    "        for j in range(dataframe.shape[0]):\n",
    "            lat2 = dataframe.loc[j, \"lat\"]\n",
    "            long2 = dataframe.loc[j, \"long\"]\n",
    "            dest = (lat2, long2)\n",
    "            try:\n",
    "                dist = geodesic(origin, dest).km\n",
    "                if dist <= RADIUS:\n",
    "                    counter += 1\n",
    "            except ValueError:\n",
    "                continue\n",
    "        df.loc[i, new_column_name] = counter\n",
    "    df.to_csv('../processed/df_hdb.csv')  # save checkpoint\n",
    "    print(\"Saved checkpoint\")\n",
    "    print(\"Completed working on feature dataframe {}\".format(place_name))\n",
    "    print(\"Time taken for this feature dataframe (seconds):\", time.time() - interm)\n",
    "    interm = time.time()\n",
    "    print(\"Total time elapsed since start (seconds):\", (time.time() - start))\n",
    "end = time.time()\n",
    "print(\"---------------------------------------\")\n",
    "print(\"END OF ALL TASKS\")\n",
    "print(\"time taken (seconds): {}\".format(end - start))"
   ]
  },
  {
   "cell_type": "code",
   "execution_count": null,
   "metadata": {
    "executionInfo": {
     "elapsed": 39,
     "status": "aborted",
     "timestamp": 1636002803027,
     "user": {
      "displayName": "Ansel Lim",
      "photoUrl": "https://lh3.googleusercontent.com/a/default-user=s64",
      "userId": "11711723797633555065"
     },
     "user_tz": -480
    },
    "id": "pVGzIOFQ-BxT",
    "pycharm": {
     "name": "#%%\n"
    }
   },
   "outputs": [],
   "source": [
    "df.to_csv('../processed/df_hdb.csv')"
   ]
  },
  {
   "cell_type": "code",
   "execution_count": null,
   "metadata": {
    "pycharm": {
     "name": "#%%\n"
    }
   },
   "outputs": [],
   "source": [
    "1+1"
   ]
  },
  {
   "cell_type": "code",
   "execution_count": null,
   "metadata": {},
   "outputs": [],
   "source": []
  }
 ],
 "metadata": {
  "colab": {
   "authorship_tag": "ABX9TyNSW9dqTSkd1zSnLilxsWdC",
   "name": "scoring_hdb.ipynb",
   "version": ""
  },
  "kernelspec": {
   "display_name": "Python 3 (ipykernel)",
   "language": "python",
   "name": "python3"
  },
  "language_info": {
   "codemirror_mode": {
    "name": "ipython",
    "version": 3
   },
   "file_extension": ".py",
   "mimetype": "text/x-python",
   "name": "python",
   "nbconvert_exporter": "python",
   "pygments_lexer": "ipython3",
   "version": "3.9.7"
  }
 },
 "nbformat": 4,
 "nbformat_minor": 1
}
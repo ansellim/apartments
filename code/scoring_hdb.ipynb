{
 "cells": [
  {
   "cell_type": "markdown",
   "source": [
    "# Original Code for scoring public housing (HDB) data -- only quantity score.\n",
    "\n",
    "Ansel Lim\n",
    "\n",
    "4 November 2021"
   ],
   "metadata": {
    "collapsed": false
   }
  },
  {
   "cell_type": "markdown",
   "source": [
    "Given HDB dataset combined with lat & long information, as well as coordinate data for various places of interest (taxi stands, schools, mrt, hawker centers, etc.), calculate counts of places of interest within a 1km radius *for each HDB block*."
   ],
   "metadata": {
    "collapsed": false
   }
  },
  {
   "cell_type": "code",
   "execution_count": 2,
   "metadata": {
    "executionInfo": {
     "elapsed": 15,
     "status": "ok",
     "timestamp": 1635999347249,
     "user": {
      "displayName": "Ansel Lim",
      "photoUrl": "https://lh3.googleusercontent.com/a/default-user=s64",
      "userId": "11711723797633555065"
     },
     "user_tz": -480
    },
    "id": "_LSEiCXWYygY"
   },
   "outputs": [],
   "source": [
    "# Specify radius in kilometers\n",
    "RADIUS=1.0"
   ]
  },
  {
   "cell_type": "code",
   "execution_count": 3,
   "metadata": {
    "executionInfo": {
     "elapsed": 15,
     "status": "ok",
     "timestamp": 1635999347249,
     "user": {
      "displayName": "Ansel Lim",
      "photoUrl": "https://lh3.googleusercontent.com/a/default-user=s64",
      "userId": "11711723797633555065"
     },
     "user_tz": -480
    },
    "id": "DMewjeMCLav4"
   },
   "outputs": [],
   "source": [
    "from datetime import datetime\n",
    "import pandas as pd\n",
    "from geopy.distance import geodesic\n",
    "import re\n",
    "import time"
   ]
  },
  {
   "cell_type": "code",
   "execution_count": 4,
   "metadata": {
    "colab": {
     "base_uri": "https://localhost:8080/"
    },
    "executionInfo": {
     "elapsed": 15,
     "status": "ok",
     "timestamp": 1635999347249,
     "user": {
      "displayName": "Ansel Lim",
      "photoUrl": "https://lh3.googleusercontent.com/a/default-user=s64",
      "userId": "11711723797633555065"
     },
     "user_tz": -480
    },
    "id": "3bcBAXi8KgpW",
    "outputId": "cb746dc3-55bb-4dd8-e243-45506d5bcc4c"
   },
   "outputs": [
    {
     "name": "stdout",
     "output_type": "stream",
     "text": [
      "04/11/2021 04:15:46\n"
     ]
    }
   ],
   "source": [
    "timestamp=datetime.now().strftime(\"%d/%m/%Y %H:%M:%S\")\n",
    "print(timestamp) # GMT"
   ]
  },
  {
   "cell_type": "code",
   "execution_count": 5,
   "metadata": {
    "colab": {
     "base_uri": "https://localhost:8080/"
    },
    "executionInfo": {
     "elapsed": 11,
     "status": "ok",
     "timestamp": 1635999347250,
     "user": {
      "displayName": "Ansel Lim",
      "photoUrl": "https://lh3.googleusercontent.com/a/default-user=s64",
      "userId": "11711723797633555065"
     },
     "user_tz": -480
    },
    "id": "yzDGEu5IzHio",
    "outputId": "aadd7ef3-79f7-45d0-908c-4a3af2248fc4"
   },
   "outputs": [
    {
     "name": "stdout",
     "output_type": "stream",
     "text": [
      "Drive already mounted at /content/gdrive; to attempt to forcibly remount, call drive.mount(\"/content/gdrive\", force_remount=True).\n"
     ]
    }
   ],
   "source": [
    "from google.colab import drive\n",
    "drive.mount('/content/gdrive')"
   ]
  },
  {
   "cell_type": "code",
   "execution_count": 6,
   "metadata": {
    "colab": {
     "base_uri": "https://localhost:8080/"
    },
    "executionInfo": {
     "elapsed": 6,
     "status": "ok",
     "timestamp": 1635999347250,
     "user": {
      "displayName": "Ansel Lim",
      "photoUrl": "https://lh3.googleusercontent.com/a/default-user=s64",
      "userId": "11711723797633555065"
     },
     "user_tz": -480
    },
    "id": "5NAYZ2rZzLc_",
    "outputId": "98153fda-a1d8-4f96-8153-2d80639fee57"
   },
   "outputs": [
    {
     "name": "stdout",
     "output_type": "stream",
     "text": [
      "/content/gdrive/MyDrive/6242_PROJECT/data\n"
     ]
    }
   ],
   "source": [
    "%cd /content/gdrive/MyDrive/6242_PROJECT/data"
   ]
  },
  {
   "cell_type": "code",
   "execution_count": 7,
   "metadata": {
    "executionInfo": {
     "elapsed": 684,
     "status": "ok",
     "timestamp": 1635999347929,
     "user": {
      "displayName": "Ansel Lim",
      "photoUrl": "https://lh3.googleusercontent.com/a/default-user=s64",
      "userId": "11711723797633555065"
     },
     "user_tz": -480
    },
    "id": "NoL96XWB9rPY"
   },
   "outputs": [],
   "source": [
    "hdb = pd.read_csv(\"./hdb_aggregated.csv\") # USE hdb_aggregated\n",
    "malls = pd.read_csv(\"./data_malls.csv\")\n",
    "taxi_stands = pd.read_csv(\"./taxi_stands.csv\")\n",
    "primary_schools=pd.read_csv(\"./data_prischools.csv\")\n",
    "mrt = pd.read_csv(\"./data_MRT.csv\")\n",
    "hawker=pd.read_csv(\"./data_hawker.csv\")\n",
    "carparks=pd.read_csv(\"./carparks.csv\")\n",
    "bus_stops = pd.read_csv(\"./bus_stops.csv\")\n",
    "amenities = pd.read_csv(\"./amenities.csv\")\n",
    "supermarkets = pd.read_csv(\"./supermarkets.csv\")\n",
    "secondary_schools=pd.read_csv(\"./secondary_schools.csv\")\n",
    "eating_establishments=pd.read_csv(\"./eating_establishments.csv\")\n",
    "parks = pd.read_csv(\"./parks.csv\")"
   ]
  },
  {
   "cell_type": "code",
   "execution_count": 8,
   "metadata": {
    "colab": {
     "base_uri": "https://localhost:8080/"
    },
    "executionInfo": {
     "elapsed": 26,
     "status": "ok",
     "timestamp": 1635999347930,
     "user": {
      "displayName": "Ansel Lim",
      "photoUrl": "https://lh3.googleusercontent.com/a/default-user=s64",
      "userId": "11711723797633555065"
     },
     "user_tz": -480
    },
    "id": "zIQ1muIs_wwb",
    "outputId": "9ee6a099-95e3-43f2-d2c4-a5cbbbf24bf7"
   },
   "outputs": [
    {
     "name": "stdout",
     "output_type": "stream",
     "text": [
      "9148\n"
     ]
    }
   ],
   "source": [
    "print(hdb.shape[0])"
   ]
  },
  {
   "cell_type": "code",
   "execution_count": 9,
   "metadata": {
    "colab": {
     "base_uri": "https://localhost:8080/",
     "height": 417
    },
    "executionInfo": {
     "elapsed": 22,
     "status": "ok",
     "timestamp": 1635999347932,
     "user": {
      "displayName": "Ansel Lim",
      "photoUrl": "https://lh3.googleusercontent.com/a/default-user=s64",
      "userId": "11711723797633555065"
     },
     "user_tz": -480
    },
    "id": "95zlNEBfAfeG",
    "outputId": "10ce3299-7933-43f9-bab0-90ef0ba5775e"
   },
   "outputs": [
    {
     "data": {
      "text/html": [
       "<div>\n",
       "<style scoped>\n",
       "    .dataframe tbody tr th:only-of-type {\n",
       "        vertical-align: middle;\n",
       "    }\n",
       "\n",
       "    .dataframe tbody tr th {\n",
       "        vertical-align: top;\n",
       "    }\n",
       "\n",
       "    .dataframe thead th {\n",
       "        text-align: right;\n",
       "    }\n",
       "</style>\n",
       "<table border=\"1\" class=\"dataframe\">\n",
       "  <thead>\n",
       "    <tr style=\"text-align: right;\">\n",
       "      <th></th>\n",
       "      <th>Unnamed: 0</th>\n",
       "      <th>block</th>\n",
       "      <th>floor_area_sqm</th>\n",
       "      <th>resale_price</th>\n",
       "      <th>price_per_sqm</th>\n",
       "      <th>lat</th>\n",
       "      <th>long</th>\n",
       "      <th>isLatLongAvailable</th>\n",
       "    </tr>\n",
       "  </thead>\n",
       "  <tbody>\n",
       "    <tr>\n",
       "      <th>0</th>\n",
       "      <td>0</td>\n",
       "      <td>1 BEACH RD</td>\n",
       "      <td>68.312500</td>\n",
       "      <td>3.424305e+05</td>\n",
       "      <td>5015.688209</td>\n",
       "      <td>1.3036713506088</td>\n",
       "      <td>103.864478660925</td>\n",
       "      <td>True</td>\n",
       "    </tr>\n",
       "    <tr>\n",
       "      <th>1</th>\n",
       "      <td>1</td>\n",
       "      <td>1 BEDOK STH AVE 1</td>\n",
       "      <td>60.882353</td>\n",
       "      <td>2.887059e+05</td>\n",
       "      <td>4735.584292</td>\n",
       "      <td>1.32085208990817</td>\n",
       "      <td>103.933721096337</td>\n",
       "      <td>True</td>\n",
       "    </tr>\n",
       "    <tr>\n",
       "      <th>2</th>\n",
       "      <td>2</td>\n",
       "      <td>1 CHAI CHEE RD</td>\n",
       "      <td>129.818182</td>\n",
       "      <td>5.250909e+05</td>\n",
       "      <td>4048.298804</td>\n",
       "      <td>1.32796879176302</td>\n",
       "      <td>103.922716018139</td>\n",
       "      <td>True</td>\n",
       "    </tr>\n",
       "    <tr>\n",
       "      <th>3</th>\n",
       "      <td>3</td>\n",
       "      <td>1 CHANGI VILLAGE RD</td>\n",
       "      <td>67.625000</td>\n",
       "      <td>2.868750e+05</td>\n",
       "      <td>4243.898204</td>\n",
       "      <td>1.3886100383707</td>\n",
       "      <td>103.988093482829</td>\n",
       "      <td>True</td>\n",
       "    </tr>\n",
       "    <tr>\n",
       "      <th>4</th>\n",
       "      <td>4</td>\n",
       "      <td>1 DELTA AVE</td>\n",
       "      <td>119.000000</td>\n",
       "      <td>8.192800e+05</td>\n",
       "      <td>6884.705882</td>\n",
       "      <td>1.2920752508431</td>\n",
       "      <td>103.828584077626</td>\n",
       "      <td>True</td>\n",
       "    </tr>\n",
       "    <tr>\n",
       "      <th>...</th>\n",
       "      <td>...</td>\n",
       "      <td>...</td>\n",
       "      <td>...</td>\n",
       "      <td>...</td>\n",
       "      <td>...</td>\n",
       "      <td>...</td>\n",
       "      <td>...</td>\n",
       "      <td>...</td>\n",
       "    </tr>\n",
       "    <tr>\n",
       "      <th>9143</th>\n",
       "      <td>9143</td>\n",
       "      <td>99A LOR 2 TOA PAYOH</td>\n",
       "      <td>144.500000</td>\n",
       "      <td>8.667500e+05</td>\n",
       "      <td>6001.842396</td>\n",
       "      <td>1.33878534348177</td>\n",
       "      <td>103.846873055688</td>\n",
       "      <td>True</td>\n",
       "    </tr>\n",
       "    <tr>\n",
       "      <th>9144</th>\n",
       "      <td>9144</td>\n",
       "      <td>99B LOR 2 TOA PAYOH</td>\n",
       "      <td>144.333333</td>\n",
       "      <td>9.300000e+05</td>\n",
       "      <td>6444.204981</td>\n",
       "      <td>1.33874496491842</td>\n",
       "      <td>103.84725279468</td>\n",
       "      <td>True</td>\n",
       "    </tr>\n",
       "    <tr>\n",
       "      <th>9145</th>\n",
       "      <td>9145</td>\n",
       "      <td>99C LOR 2 TOA PAYOH</td>\n",
       "      <td>148.500000</td>\n",
       "      <td>9.365000e+05</td>\n",
       "      <td>6305.369128</td>\n",
       "      <td>1.33901612961753</td>\n",
       "      <td>103.84744935603</td>\n",
       "      <td>True</td>\n",
       "    </tr>\n",
       "    <tr>\n",
       "      <th>9146</th>\n",
       "      <td>9146</td>\n",
       "      <td>9A BOON TIONG RD</td>\n",
       "      <td>101.090909</td>\n",
       "      <td>1.019358e+06</td>\n",
       "      <td>10088.400551</td>\n",
       "      <td>1.2868271524179</td>\n",
       "      <td>103.828659487514</td>\n",
       "      <td>True</td>\n",
       "    </tr>\n",
       "    <tr>\n",
       "      <th>9147</th>\n",
       "      <td>9147</td>\n",
       "      <td>9B BOON TIONG RD</td>\n",
       "      <td>100.750000</td>\n",
       "      <td>1.007017e+06</td>\n",
       "      <td>10033.875873</td>\n",
       "      <td>1.28681417822795</td>\n",
       "      <td>103.828928312802</td>\n",
       "      <td>True</td>\n",
       "    </tr>\n",
       "  </tbody>\n",
       "</table>\n",
       "<p>9148 rows × 8 columns</p>\n",
       "</div>"
      ],
      "text/plain": [
       "      Unnamed: 0                block  ...              long  isLatLongAvailable\n",
       "0              0           1 BEACH RD  ...  103.864478660925                True\n",
       "1              1    1 BEDOK STH AVE 1  ...  103.933721096337                True\n",
       "2              2       1 CHAI CHEE RD  ...  103.922716018139                True\n",
       "3              3  1 CHANGI VILLAGE RD  ...  103.988093482829                True\n",
       "4              4          1 DELTA AVE  ...  103.828584077626                True\n",
       "...          ...                  ...  ...               ...                 ...\n",
       "9143        9143  99A LOR 2 TOA PAYOH  ...  103.846873055688                True\n",
       "9144        9144  99B LOR 2 TOA PAYOH  ...   103.84725279468                True\n",
       "9145        9145  99C LOR 2 TOA PAYOH  ...   103.84744935603                True\n",
       "9146        9146     9A BOON TIONG RD  ...  103.828659487514                True\n",
       "9147        9147     9B BOON TIONG RD  ...  103.828928312802                True\n",
       "\n",
       "[9148 rows x 8 columns]"
      ]
     },
     "execution_count": 9,
     "metadata": {},
     "output_type": "execute_result"
    }
   ],
   "source": [
    "hdb"
   ]
  },
  {
   "cell_type": "code",
   "execution_count": 10,
   "metadata": {
    "executionInfo": {
     "elapsed": 20,
     "status": "ok",
     "timestamp": 1635999347933,
     "user": {
      "displayName": "Ansel Lim",
      "photoUrl": "https://lh3.googleusercontent.com/a/default-user=s64",
      "userId": "11711723797633555065"
     },
     "user_tz": -480
    },
    "id": "C8x7TPRi_yYE"
   },
   "outputs": [],
   "source": [
    "hdb=hdb[(hdb[\"isLatLongAvailable\"]==True)]\n",
    "hdb.reset_index(inplace=True)"
   ]
  },
  {
   "cell_type": "code",
   "execution_count": 11,
   "metadata": {
    "colab": {
     "base_uri": "https://localhost:8080/"
    },
    "executionInfo": {
     "elapsed": 19,
     "status": "ok",
     "timestamp": 1635999347933,
     "user": {
      "displayName": "Ansel Lim",
      "photoUrl": "https://lh3.googleusercontent.com/a/default-user=s64",
      "userId": "11711723797633555065"
     },
     "user_tz": -480
    },
    "id": "KHQQ2YK-ATqd",
    "outputId": "3d81354e-b331-4382-d95e-634a6197fab5"
   },
   "outputs": [
    {
     "name": "stdout",
     "output_type": "stream",
     "text": [
      "9126\n"
     ]
    }
   ],
   "source": [
    "print(hdb.shape[0])"
   ]
  },
  {
   "cell_type": "code",
   "execution_count": 12,
   "metadata": {
    "executionInfo": {
     "elapsed": 16,
     "status": "ok",
     "timestamp": 1635999347934,
     "user": {
      "displayName": "Ansel Lim",
      "photoUrl": "https://lh3.googleusercontent.com/a/default-user=s64",
      "userId": "11711723797633555065"
     },
     "user_tz": -480
    },
    "id": "D-BJlvaHCBdv"
   },
   "outputs": [],
   "source": [
    "# import numpy as np\n",
    "# SUBSET=2\n",
    "# np.random.permutation(hdb.shape[0])[:SUBSET]\n",
    "# hdb=hdb.iloc[np.random.permutation(hdb.shape[0])[:SUBSET],:]\n",
    "# hdb.reset_index(inplace=True)"
   ]
  },
  {
   "cell_type": "code",
   "execution_count": 13,
   "metadata": {
    "colab": {
     "base_uri": "https://localhost:8080/"
    },
    "executionInfo": {
     "elapsed": 16,
     "status": "ok",
     "timestamp": 1635999347934,
     "user": {
      "displayName": "Ansel Lim",
      "photoUrl": "https://lh3.googleusercontent.com/a/default-user=s64",
      "userId": "11711723797633555065"
     },
     "user_tz": -480
    },
    "id": "6cnnOzf89uN5",
    "outputId": "db3a5bf5-cdd2-4189-f930-bcaa4dba6720"
   },
   "outputs": [
    {
     "name": "stdout",
     "output_type": "stream",
     "text": [
      "Number of HDB blocks with lat & long info: 9126\n"
     ]
    }
   ],
   "source": [
    "print(\"Number of HDB blocks with lat & long info:\",hdb.shape[0])"
   ]
  },
  {
   "cell_type": "code",
   "execution_count": 14,
   "metadata": {
    "executionInfo": {
     "elapsed": 14,
     "status": "ok",
     "timestamp": 1635999347935,
     "user": {
      "displayName": "Ansel Lim",
      "photoUrl": "https://lh3.googleusercontent.com/a/default-user=s64",
      "userId": "11711723797633555065"
     },
     "user_tz": -480
    },
    "id": "w08fiCbSQBhz"
   },
   "outputs": [],
   "source": [
    "df = hdb.copy(deep=True)\n",
    "taxi_stands[\"lat\"],taxi_stands[\"long\"] = taxi_stands[\"Latitude\"],taxi_stands[\"Longitude\"]\n",
    "primary_schools[['long','lat']]=primary_schools['coordinates'].str.split(',',1,expand=True)\n",
    "mrt[['long','lat']]=mrt['Coordinates'].str.split(',',1,expand=True)\n",
    "hawker[['long','lat']]=hawker['Coordinates'].str.split(',',1,expand=True)\n",
    "hawker['lat']=hawker['lat'].str.rstrip(\",0.0\")\n",
    "carparks['lat'],carparks['long']=carparks['latitude'],carparks['longitude']\n",
    "bus_stops['lat'],bus_stops['long']=bus_stops['Latitude'],bus_stops['Longitude']"
   ]
  },
  {
   "cell_type": "code",
   "execution_count": 15,
   "metadata": {
    "executionInfo": {
     "elapsed": 14,
     "status": "ok",
     "timestamp": 1635999347935,
     "user": {
      "displayName": "Ansel Lim",
      "photoUrl": "https://lh3.googleusercontent.com/a/default-user=s64",
      "userId": "11711723797633555065"
     },
     "user_tz": -480
    },
    "id": "7jRRXch896SA"
   },
   "outputs": [],
   "source": [
    "sports_facility_types = list(amenities.facility_type.unique())\n",
    "sports_facility_types.remove('CHAS Clinic')\n",
    "sports_facility_types.remove('Community Centre')\n",
    "chas_clinics = amenities[amenities['facility_type']=='CHAS Clinic'].reset_index()\n",
    "sports_facilities = amenities[amenities['facility_type'].isin(sports_facility_types)].reset_index()\n",
    "community_centers = amenities[amenities['facility_type']=='Community Centre'].reset_index()"
   ]
  },
  {
   "cell_type": "code",
   "execution_count": 16,
   "metadata": {
    "executionInfo": {
     "elapsed": 14,
     "status": "ok",
     "timestamp": 1635999347936,
     "user": {
      "displayName": "Ansel Lim",
      "photoUrl": "https://lh3.googleusercontent.com/a/default-user=s64",
      "userId": "11711723797633555065"
     },
     "user_tz": -480
    },
    "id": "dV1nLr4k99K6"
   },
   "outputs": [],
   "source": [
    "places = [malls,taxi_stands,primary_schools,mrt,hawker,carparks,bus_stops,chas_clinics,sports_facilities,community_centers,supermarkets,secondary_schools,eating_establishments,parks]\n",
    "places_names = ['malls','taxi_stands','primary_schools','mrt','hawker','carparks','bus_stops','chas_clinics','sports_facilities','community_centers','supermarkets','secondary_schools','eating_establishments','parks']"
   ]
  },
  {
   "cell_type": "code",
   "execution_count": 16,
   "metadata": {
    "executionInfo": {
     "elapsed": 13,
     "status": "ok",
     "timestamp": 1635999347936,
     "user": {
      "displayName": "Ansel Lim",
      "photoUrl": "https://lh3.googleusercontent.com/a/default-user=s64",
      "userId": "11711723797633555065"
     },
     "user_tz": -480
    },
    "id": "tiK5gpAUBgPB"
   },
   "outputs": [],
   "source": [
    ""
   ]
  },
  {
   "cell_type": "code",
   "execution_count": 17,
   "metadata": {
    "colab": {
     "background_save": true,
     "base_uri": "https://localhost:8080/",
     "height": 1000
    },
    "executionInfo": {
     "elapsed": 3455109,
     "status": "error",
     "timestamp": 1636002803032,
     "user": {
      "displayName": "Ansel Lim",
      "photoUrl": "https://lh3.googleusercontent.com/a/default-user=s64",
      "userId": "11711723797633555065"
     },
     "user_tz": -480
    },
    "id": "Jpr3oPbl9_t_"
   },
   "outputs": [
    {
     "name": "stdout",
     "output_type": "stream",
     "text": [
      "-------------------------\n",
      "Working on feature dataframe malls\n",
      "Number of places of interest: 169\n",
      "Time elapsed (seconds): 395.63158202171326\n",
      "-------------------------\n",
      "Working on feature dataframe taxi_stands\n",
      "Number of places of interest: 279\n",
      "Time elapsed (seconds): 1057.5534782409668\n",
      "-------------------------\n",
      "Working on feature dataframe primary_schools\n",
      "Number of places of interest: 186\n",
      "Time elapsed (seconds): 1500.5730938911438\n",
      "-------------------------\n",
      "Working on feature dataframe mrt\n",
      "Number of places of interest: 189\n",
      "Time elapsed (seconds): 1961.7290267944336\n",
      "-------------------------\n",
      "Working on feature dataframe hawker\n",
      "Number of places of interest: 119\n",
      "Time elapsed (seconds): 2257.433905363083\n",
      "-------------------------\n",
      "Working on feature dataframe carparks\n",
      "Number of places of interest: 500\n",
      "Time elapsed (seconds): 3471.4846992492676\n",
      "-------------------------\n",
      "Working on feature dataframe bus_stops\n",
      "Number of places of interest: 500\n",
      "Time elapsed (seconds): 4650.53542637825\n",
      "-------------------------\n",
      "Working on feature dataframe chas_clinics\n",
      "Number of places of interest: 1167\n",
      "Time elapsed (seconds): 7377.791765213013\n",
      "-------------------------\n",
      "Working on feature dataframe sports_facilities\n",
      "Number of places of interest: 194\n",
      "Time elapsed (seconds): 7840.528085231781\n",
      "-------------------------\n",
      "Working on feature dataframe community_centers\n",
      "Number of places of interest: 120\n",
      "Time elapsed (seconds): 8129.78064084053\n",
      "-------------------------\n",
      "Working on feature dataframe supermarkets\n",
      "Number of places of interest: 607\n",
      "Time elapsed (seconds): 9529.71544456482\n",
      "-------------------------\n",
      "Working on feature dataframe secondary_schools\n",
      "Number of places of interest: 137\n",
      "Time elapsed (seconds): 9860.274308681488\n",
      "-------------------------\n",
      "Working on feature dataframe eating_establishments\n",
      "Number of places of interest: 34378\n"
     ]
    }
   ],
   "source": [
    "start=time.time()\n",
    "interm = time.time()\n",
    "for i in range(len(places)):\n",
    "  dataframe = places[i]\n",
    "  dataframe.reset_index(inplace=True)\n",
    "  place_name = places_names[i]\n",
    "  print(\"-------------------------\")\n",
    "  print(\"Working on feature dataframe {}\".format(place_name))\n",
    "  print(\"Number of places of interest:\",dataframe.shape[0])\n",
    "  print(\"Estimated number of pairwise computations:\",dataframe.shape[0]*df.shape[0])\n",
    "  new_column_name = \"num_\"+place_name\n",
    "  df[new_column_name] = 0\n",
    "  for i in range(df.shape[0]):\n",
    "    lat1 = df.loc[i,\"lat\"]\n",
    "    long1 = df.loc[i,\"long\"]\n",
    "    origin = (lat1,long1)\n",
    "    counter = 0\n",
    "    for j in range(dataframe.shape[0]):\n",
    "      lat2 = dataframe.loc[j,\"lat\"]\n",
    "      long2 = dataframe.loc[j,\"long\"]\n",
    "      dest = (lat2,long2)\n",
    "      try:\n",
    "        dist = geodesic(origin,dest).km\n",
    "        if dist<=RADIUS:\n",
    "          counter+=1\n",
    "      except ValueError:\n",
    "        continue\n",
    "    df.loc[i,new_column_name]=counter\n",
    "  df.to_csv('./processed/df_hdb.csv') # Checkpointed\n",
    "  print(\"Saved checkpoint\")\n",
    "  print(\"Completed working on feature dataframe {}\".format(place_name))\n",
    "  print(\"Time taken for this feature dataframe (seconds):\",time.time()-interm)\n",
    "  interm=time.time()\n",
    "  print(\"Total time elapsed since start (seconds):\",(time.time()-start))\n",
    "end=time.time()\n",
    "print(\"---------------------------------------\")\n",
    "print(\"END OF ALL TASKS\")\n",
    "print(\"time taken (seconds): {}\".format(end-start))"
   ]
  },
  {
   "cell_type": "code",
   "execution_count": null,
   "metadata": {
    "executionInfo": {
     "elapsed": 39,
     "status": "aborted",
     "timestamp": 1636002803027,
     "user": {
      "displayName": "Ansel Lim",
      "photoUrl": "https://lh3.googleusercontent.com/a/default-user=s64",
      "userId": "11711723797633555065"
     },
     "user_tz": -480
    },
    "id": "pVGzIOFQ-BxT"
   },
   "outputs": [],
   "source": [
    "df.to_csv('./processed/df_hdb.csv')"
   ]
  },
  {
   "cell_type": "code",
   "execution_count": null,
   "metadata": {
    "executionInfo": {
     "elapsed": 42,
     "status": "aborted",
     "timestamp": 1636002803030,
     "user": {
      "displayName": "Ansel Lim",
      "photoUrl": "https://lh3.googleusercontent.com/a/default-user=s64",
      "userId": "11711723797633555065"
     },
     "user_tz": -480
    },
    "id": "-Eg5-u40_4VQ"
   },
   "outputs": [],
   "source": [
    ""
   ]
  }
 ],
 "metadata": {
  "colab": {
   "authorship_tag": "ABX9TyNSW9dqTSkd1zSnLilxsWdC",
   "name": "scoring_hdb.ipynb",
   "version": ""
  },
  "kernelspec": {
   "display_name": "Python 3",
   "name": "python3"
  },
  "language_info": {
   "name": "python"
  }
 },
 "nbformat": 4,
 "nbformat_minor": 0
}
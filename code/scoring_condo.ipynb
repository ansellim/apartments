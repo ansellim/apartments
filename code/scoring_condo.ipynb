{
 "cells": [
  {
   "cell_type": "markdown",
   "metadata": {},
   "source": [
    "# Scoring private residential data: calculation of number of amenities in the vicinity\n",
    "\n",
    "Ansel Lim\n",
    "\n",
    "Created 1 November 2021, updated Dec 2021"
   ]
  },
  {
   "cell_type": "markdown",
   "metadata": {},
   "source": [
    "Given a dataset from the Urban Redevelopment Authority (private residential property transactions, available via API calls https://www.ura.gov.sg/maps/api/#private-residential-property-transactions) as well as other datasets (taxi stands, primary schools, mrt, hawker, carparks, bus stops, chas clinics, sports facilities, community centers), we calculate the NUMBER of each of these amenities within a specified RADIUS (e.g. 1 kilometer) of each property."
   ]
  },
  {
   "cell_type": "code",
   "execution_count": 1,
   "metadata": {
    "executionInfo": {
     "elapsed": 14,
     "status": "ok",
     "timestamp": 1635944153849,
     "user": {
      "displayName": "Ansel Lim",
      "photoUrl": "https://lh3.googleusercontent.com/a/default-user=s64",
      "userId": "11711723797633555065"
     },
     "user_tz": -480
    },
    "id": "_LSEiCXWYygY"
   },
   "outputs": [],
   "source": [
    "# Specify radius in kilometers\n",
    "RADIUS=1.0"
   ]
  },
  {
   "cell_type": "code",
   "execution_count": 2,
   "metadata": {
    "executionInfo": {
     "elapsed": 15,
     "status": "ok",
     "timestamp": 1635944153850,
     "user": {
      "displayName": "Ansel Lim",
      "photoUrl": "https://lh3.googleusercontent.com/a/default-user=s64",
      "userId": "11711723797633555065"
     },
     "user_tz": -480
    },
    "id": "DMewjeMCLav4"
   },
   "outputs": [],
   "source": [
    "from datetime import datetime\n",
    "import pandas as pd\n",
    "from geopy.distance import geodesic\n",
    "import re\n",
    "import os\n",
    "import time"
   ]
  },
  {
   "cell_type": "code",
   "execution_count": 3,
   "metadata": {
    "colab": {
     "base_uri": "https://localhost:8080/"
    },
    "executionInfo": {
     "elapsed": 14,
     "status": "ok",
     "timestamp": 1635944153850,
     "user": {
      "displayName": "Ansel Lim",
      "photoUrl": "https://lh3.googleusercontent.com/a/default-user=s64",
      "userId": "11711723797633555065"
     },
     "user_tz": -480
    },
    "id": "3bcBAXi8KgpW",
    "outputId": "89617c54-2a66-416d-89f2-0d3941523c87"
   },
   "outputs": [
    {
     "name": "stdout",
     "output_type": "stream",
     "text": [
      "04/12/2021 17:06:49\n"
     ]
    }
   ],
   "source": [
    "timestamp=datetime.now().strftime(\"%d/%m/%Y %H:%M:%S\")\n",
    "print(timestamp) # GMT"
   ]
  },
  {
   "cell_type": "markdown",
   "metadata": {
    "pycharm": {
     "name": "#%% md\n"
    }
   },
   "source": [
    "Load data"
   ]
  },
  {
   "cell_type": "code",
   "execution_count": 4,
   "metadata": {
    "pycharm": {
     "name": "#%%\n"
    }
   },
   "outputs": [],
   "source": [
    "os.chdir(\"../data/raw\")"
   ]
  },
  {
   "cell_type": "code",
   "execution_count": 5,
   "metadata": {
    "executionInfo": {
     "elapsed": 1175,
     "status": "ok",
     "timestamp": 1635959430875,
     "user": {
      "displayName": "Ansel Lim",
      "photoUrl": "https://lh3.googleusercontent.com/a/default-user=s64",
      "userId": "11711723797633555065"
     },
     "user_tz": -480
    },
    "id": "WETut2K1LItR"
   },
   "outputs": [],
   "source": [
    "ura = pd.read_csv(\"./ura.csv\")\n",
    "malls = pd.read_csv(\"./data_malls.csv\")\n",
    "taxi_stands = pd.read_csv(\"./taxi_stands.csv\")\n",
    "primary_schools=pd.read_csv(\"./data_prischools.csv\")\n",
    "mrt = pd.read_csv(\"./data_MRT.csv\")\n",
    "hawker=pd.read_csv(\"./data_hawker.csv\")\n",
    "carparks=pd.read_csv(\"./carparks.csv\")\n",
    "bus_stops = pd.read_csv(\"./bus_stops.csv\")\n",
    "amenities = pd.read_csv(\"./amenities.csv\")\n",
    "supermarkets = pd.read_csv(\"./supermarkets.csv\")\n",
    "secondary_schools=pd.read_csv(\"./secondary_schools.csv\")\n",
    "eating_establishments=pd.read_csv(\"./eating_establishments.csv\")\n",
    "parks = pd.read_csv(\"./parks.csv\")"
   ]
  },
  {
   "cell_type": "code",
   "execution_count": 6,
   "metadata": {
    "executionInfo": {
     "elapsed": 16,
     "status": "ok",
     "timestamp": 1635944155921,
     "user": {
      "displayName": "Ansel Lim",
      "photoUrl": "https://lh3.googleusercontent.com/a/default-user=s64",
      "userId": "11711723797633555065"
     },
     "user_tz": -480
    },
    "id": "f7imbCQTPLld"
   },
   "outputs": [],
   "source": [
    "taxi_stands[\"lat\"],taxi_stands[\"long\"] = taxi_stands[\"Latitude\"],taxi_stands[\"Longitude\"]\n",
    "primary_schools[['long','lat']]=primary_schools['coordinates'].str.split(',',1,expand=True)\n",
    "mrt[['long','lat']]=mrt['Coordinates'].str.split(',',1,expand=True)\n",
    "hawker[['long','lat']]=hawker['Coordinates'].str.split(',',1,expand=True)\n",
    "hawker['lat']=hawker['lat'].str.rstrip(\",0.0\")\n",
    "carparks['lat'],carparks['long']=carparks['latitude'],carparks['longitude']\n",
    "bus_stops['lat'],bus_stops['long']=bus_stops['Latitude'],bus_stops['Longitude']\n",
    "eating_establishments.rename(columns={'lon':'long'}, inplace=True)"
   ]
  },
  {
   "cell_type": "code",
   "execution_count": 7,
   "metadata": {
    "executionInfo": {
     "elapsed": 16,
     "status": "ok",
     "timestamp": 1635944155922,
     "user": {
      "displayName": "Ansel Lim",
      "photoUrl": "https://lh3.googleusercontent.com/a/default-user=s64",
      "userId": "11711723797633555065"
     },
     "user_tz": -480
    },
    "id": "jjmWd4w9S3h0"
   },
   "outputs": [],
   "source": [
    "df = ura.copy(deep=True)"
   ]
  },
  {
   "cell_type": "code",
   "execution_count": 8,
   "metadata": {
    "executionInfo": {
     "elapsed": 15,
     "status": "ok",
     "timestamp": 1635944155922,
     "user": {
      "displayName": "Ansel Lim",
      "photoUrl": "https://lh3.googleusercontent.com/a/default-user=s64",
      "userId": "11711723797633555065"
     },
     "user_tz": -480
    },
    "id": "wlM8nPegUWBA"
   },
   "outputs": [],
   "source": [
    "# Function for extracting coordinate data from polygon data in some dataframes\n",
    "def getLatLong(x):\n",
    "  coordinates = x['coordinates']\n",
    "  lat,long=re.findall('[0-9.]+', coordinates)[:2] # get first pair of coordinates (because some geometries are polygons)\n",
    "  return (long,lat)"
   ]
  },
  {
   "cell_type": "code",
   "execution_count": 9,
   "metadata": {
    "executionInfo": {
     "elapsed": 12,
     "status": "ok",
     "timestamp": 1635944155924,
     "user": {
      "displayName": "Ansel Lim",
      "photoUrl": "https://lh3.googleusercontent.com/a/default-user=s64",
      "userId": "11711723797633555065"
     },
     "user_tz": -480
    },
    "id": "gqDOAFeSRtdb"
   },
   "outputs": [],
   "source": [
    "sports_facility_types = list(amenities.facility_type.unique())\n",
    "sports_facility_types.remove('CHAS Clinic')\n",
    "sports_facility_types.remove('Community Centre')\n",
    "chas_clinics = amenities[amenities['facility_type']=='CHAS Clinic'].reset_index()\n",
    "sports_facilities = amenities[amenities['facility_type'].isin(sports_facility_types)].reset_index()\n",
    "community_centers = amenities[amenities['facility_type']=='Community Centre'].reset_index()"
   ]
  },
  {
   "cell_type": "code",
   "execution_count": 10,
   "metadata": {
    "executionInfo": {
     "elapsed": 12,
     "status": "ok",
     "timestamp": 1635944155925,
     "user": {
      "displayName": "Ansel Lim",
      "photoUrl": "https://lh3.googleusercontent.com/a/default-user=s64",
      "userId": "11711723797633555065"
     },
     "user_tz": -480
    },
    "id": "tIs68LcbWc39"
   },
   "outputs": [],
   "source": [
    "places = [malls,taxi_stands,primary_schools,mrt,hawker,carparks,bus_stops,chas_clinics,sports_facilities,community_centers,supermarkets,secondary_schools,eating_establishments,parks]\n",
    "places_names = ['malls','taxi_stands','primary_schools','mrt','hawker','carparks','bus_stops','chas_clinics','sports_facilities','community_centers','supermarkets','secondary_schools','eating_establishments','parks']"
   ]
  },
  {
   "cell_type": "markdown",
   "metadata": {},
   "source": [
    "Calculate distances"
   ]
  },
  {
   "cell_type": "code",
   "execution_count": null,
   "metadata": {
    "colab": {
     "base_uri": "https://localhost:8080/",
     "height": 841
    },
    "executionInfo": {
     "elapsed": 1628558,
     "status": "error",
     "timestamp": 1635945785056,
     "user": {
      "displayName": "Ansel Lim",
      "photoUrl": "https://lh3.googleusercontent.com/a/default-user=s64",
      "userId": "11711723797633555065"
     },
     "user_tz": -480
    },
    "id": "oiPmJ0MTXhJc",
    "outputId": "0138cb33-5a80-419e-c873-f52d89fcf7ba"
   },
   "outputs": [
    {
     "name": "stdout",
     "output_type": "stream",
     "text": [
      "Working on feature dataframe malls\n",
      "Number of places of interest: 169\n",
      "Estimated number of pairwise computations: 399178\n",
      "Completed working on feature dataframe: malls\n",
      "Time taken for this feature dataframe (seconds): 71.01735091209412\n",
      "Checkpointed; time elapsed: 71.03272914886475\n",
      "Working on feature dataframe taxi_stands\n",
      "Number of places of interest: 279\n",
      "Estimated number of pairwise computations: 658998\n",
      "Completed working on feature dataframe: taxi_stands\n",
      "Time taken for this feature dataframe (seconds): 110.86588907241821\n",
      "Checkpointed; time elapsed: 181.91343998908997\n",
      "Working on feature dataframe primary_schools\n",
      "Number of places of interest: 186\n",
      "Estimated number of pairwise computations: 439332\n",
      "Completed working on feature dataframe: primary_schools\n",
      "Time taken for this feature dataframe (seconds): 74.72010397911072\n",
      "Checkpointed; time elapsed: 256.64821219444275\n",
      "Working on feature dataframe mrt\n",
      "Number of places of interest: 189\n",
      "Estimated number of pairwise computations: 446418\n",
      "Completed working on feature dataframe: mrt\n",
      "Time taken for this feature dataframe (seconds): 76.72640919685364\n",
      "Checkpointed; time elapsed: 333.38943219184875\n",
      "Working on feature dataframe hawker\n",
      "Number of places of interest: 119\n",
      "Estimated number of pairwise computations: 281078\n",
      "Completed working on feature dataframe: hawker\n",
      "Time taken for this feature dataframe (seconds): 48.10573697090149\n",
      "Checkpointed; time elapsed: 381.5162281990051\n",
      "Working on feature dataframe carparks\n",
      "Number of places of interest: 500\n",
      "Estimated number of pairwise computations: 1181000\n",
      "Completed working on feature dataframe: carparks\n",
      "Time taken for this feature dataframe (seconds): 204.6203510761261\n",
      "Checkpointed; time elapsed: 586.1517560482025\n",
      "Working on feature dataframe bus_stops\n",
      "Number of places of interest: 500\n",
      "Estimated number of pairwise computations: 1181000\n",
      "Completed working on feature dataframe: bus_stops\n",
      "Time taken for this feature dataframe (seconds): 202.52051877975464\n",
      "Checkpointed; time elapsed: 788.6884710788727\n",
      "Working on feature dataframe chas_clinics\n",
      "Number of places of interest: 1167\n",
      "Estimated number of pairwise computations: 2756454\n",
      "Completed working on feature dataframe: chas_clinics\n",
      "Time taken for this feature dataframe (seconds): 474.6593930721283\n",
      "Checkpointed; time elapsed: 1263.3689050674438\n",
      "Working on feature dataframe sports_facilities\n",
      "Number of places of interest: 194\n",
      "Estimated number of pairwise computations: 458228\n",
      "Completed working on feature dataframe: sports_facilities\n",
      "Time taken for this feature dataframe (seconds): 77.5836889743805\n",
      "Checkpointed; time elapsed: 1340.9698822498322\n",
      "Working on feature dataframe community_centers\n",
      "Number of places of interest: 120\n",
      "Estimated number of pairwise computations: 283440\n",
      "Completed working on feature dataframe: community_centers\n",
      "Time taken for this feature dataframe (seconds): 48.0127170085907\n",
      "Checkpointed; time elapsed: 1389.0020680427551\n",
      "Working on feature dataframe supermarkets\n",
      "Number of places of interest: 607\n",
      "Estimated number of pairwise computations: 1433734\n",
      "Completed working on feature dataframe: supermarkets\n",
      "Time taken for this feature dataframe (seconds): 247.14032816886902\n",
      "Checkpointed; time elapsed: 1636.1591639518738\n",
      "Working on feature dataframe secondary_schools\n",
      "Number of places of interest: 137\n",
      "Estimated number of pairwise computations: 323594\n",
      "Completed working on feature dataframe: secondary_schools\n",
      "Time taken for this feature dataframe (seconds): 54.59497094154358\n",
      "Checkpointed; time elapsed: 1690.7711231708527\n",
      "Working on feature dataframe eating_establishments\n",
      "Number of places of interest: 34378\n",
      "Estimated number of pairwise computations: 81200836\n"
     ]
    }
   ],
   "source": [
    "start=time.time()\n",
    "for i in range(len(places)):\n",
    "  interm=time.time()\n",
    "  dataframe = places[i]\n",
    "  place_name = places_names[i]\n",
    "  print(\"Working on feature dataframe {}\".format(place_name))\n",
    "  print(\"Number of places of interest:\", dataframe.shape[0])\n",
    "  print(\"Estimated number of pairwise computations:\", dataframe.shape[0] * df.shape[0])\n",
    "  new_column_name = \"num_\"+place_name\n",
    "  df[new_column_name] = 0\n",
    "  for i in range(df.shape[0]):\n",
    "    lat1 = df.loc[i,\"lat\"]\n",
    "    long1 = df.loc[i,\"long\"]\n",
    "    origin = (lat1,long1)\n",
    "    counter = 0\n",
    "    for j in range(dataframe.shape[0]):\n",
    "      lat2 = dataframe.loc[j,\"lat\"]\n",
    "      long2 = dataframe.loc[j,\"long\"]\n",
    "      dest = (lat2,long2)\n",
    "      try:\n",
    "        dist = geodesic(origin,dest).km\n",
    "        if dist<=RADIUS:\n",
    "          counter+=1\n",
    "      except ValueError:\n",
    "        continue\n",
    "    df.loc[i,new_column_name]=counter\n",
    "  print(\"Completed working on feature dataframe:\",place_name)\n",
    "  print(\"Time taken for this feature dataframe (seconds):\",time.time() - interm)\n",
    "  df.to_csv('../processed/df.csv')\n",
    "  print(\"Checkpointed; time elapsed:\",time.time()-start)\n",
    "end=time.time()\n",
    "print(\"time taken: {}\".format(end-start))"
   ]
  },
  {
   "cell_type": "code",
   "execution_count": null,
   "metadata": {
    "executionInfo": {
     "elapsed": 11,
     "status": "ok",
     "timestamp": 1635959571633,
     "user": {
      "displayName": "Ansel Lim",
      "photoUrl": "https://lh3.googleusercontent.com/a/default-user=s64",
      "userId": "11711723797633555065"
     },
     "user_tz": -480
    },
    "id": "-Pn87F3uBkZn",
    "pycharm": {
     "name": "#%%\n"
    }
   },
   "outputs": [],
   "source": [
    "df.to_csv('../processed/df.csv')"
   ]
  }
 ],
 "metadata": {
  "colab": {
   "authorship_tag": "ABX9TyMjYqdJb36Dmd/Ic988B5tr",
   "collapsed_sections": [],
   "name": "scoring.ipynb",
   "provenance": []
  },
  "kernelspec": {
   "display_name": "Python 3 (ipykernel)",
   "language": "python",
   "name": "python3"
  },
  "language_info": {
   "codemirror_mode": {
    "name": "ipython",
    "version": 3
   },
   "file_extension": ".py",
   "mimetype": "text/x-python",
   "name": "python",
   "nbconvert_exporter": "python",
   "pygments_lexer": "ipython3",
   "version": "3.9.7"
  }
 },
 "nbformat": 4,
 "nbformat_minor": 1
}
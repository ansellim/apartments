{
 "nbformat": 4,
 "nbformat_minor": 0,
 "metadata": {
  "colab": {
   "name": "scoring.ipynb",
   "provenance": [],
   "collapsed_sections": [],
   "authorship_tag": "ABX9TyMjYqdJb36Dmd/Ic988B5tr"
  },
  "kernelspec": {
   "display_name": "Python 3",
   "name": "python3"
  },
  "language_info": {
   "name": "python"
  }
 },
 "cells": [
  {
   "cell_type": "markdown",
   "source": [
    "# Original Code for scoring private condominium data -- only quantity score.\n",
    "\n",
    "Ansel Lim\n",
    "\n",
    "1 November 2021"
   ],
   "metadata": {
    "collapsed": false
   }
  },
  {
   "cell_type": "markdown",
   "source": [
    "Given URA dataset (private residential property transactions; https://www.ura.gov.sg/maps/api/#private-residential-property-transactions) as well as other datasets (taxi stands, primary schools, mrt, hawker, carparks, bus stops, chas clinics, sports facilities, community centers), calculate the NUMBER of each of these places within a specified RADIUS (e.g. 1 kilometer) from each property."
   ],
   "metadata": {
    "collapsed": false
   }
  },
  {
   "cell_type": "code",
   "metadata": {
    "id": "_LSEiCXWYygY",
    "executionInfo": {
     "status": "ok",
     "timestamp": 1635944153849,
     "user_tz": -480,
     "elapsed": 14,
     "user": {
      "displayName": "Ansel Lim",
      "photoUrl": "https://lh3.googleusercontent.com/a/default-user=s64",
      "userId": "11711723797633555065"
     }
    }
   },
   "source": [
    "# Specify radius in kilometers\n",
    "RADIUS=1.0"
   ],
   "execution_count": 3,
   "outputs": []
  },
  {
   "cell_type": "code",
   "metadata": {
    "id": "DMewjeMCLav4",
    "executionInfo": {
     "status": "ok",
     "timestamp": 1635944153850,
     "user_tz": -480,
     "elapsed": 15,
     "user": {
      "displayName": "Ansel Lim",
      "photoUrl": "https://lh3.googleusercontent.com/a/default-user=s64",
      "userId": "11711723797633555065"
     }
    }
   },
   "source": [
    "from datetime import datetime\n",
    "import pandas as pd\n",
    "from geopy.distance import geodesic\n",
    "import re\n",
    "import time"
   ],
   "execution_count": 4,
   "outputs": []
  },
  {
   "cell_type": "code",
   "metadata": {
    "colab": {
     "base_uri": "https://localhost:8080/"
    },
    "id": "3bcBAXi8KgpW",
    "executionInfo": {
     "status": "ok",
     "timestamp": 1635944153850,
     "user_tz": -480,
     "elapsed": 14,
     "user": {
      "displayName": "Ansel Lim",
      "photoUrl": "https://lh3.googleusercontent.com/a/default-user=s64",
      "userId": "11711723797633555065"
     }
    },
    "outputId": "89617c54-2a66-416d-89f2-0d3941523c87"
   },
   "source": [
    "timestamp=datetime.now().strftime(\"%d/%m/%Y %H:%M:%S\")\n",
    "print(timestamp) # GMT"
   ],
   "execution_count": 5,
   "outputs": [
    {
     "output_type": "stream",
     "name": "stdout",
     "text": [
      "03/11/2021 12:55:50\n"
     ]
    }
   ]
  },
  {
   "cell_type": "code",
   "metadata": {
    "colab": {
     "base_uri": "https://localhost:8080/"
    },
    "id": "yzDGEu5IzHio",
    "executionInfo": {
     "status": "ok",
     "timestamp": 1635944153850,
     "user_tz": -480,
     "elapsed": 8,
     "user": {
      "displayName": "Ansel Lim",
      "photoUrl": "https://lh3.googleusercontent.com/a/default-user=s64",
      "userId": "11711723797633555065"
     }
    },
    "outputId": "d8462700-051c-4a86-af9c-89232cf69d81"
   },
   "source": [
    "from google.colab import drive\n",
    "drive.mount('/content/gdrive')"
   ],
   "execution_count": 6,
   "outputs": [
    {
     "output_type": "stream",
     "name": "stdout",
     "text": [
      "Drive already mounted at /content/gdrive; to attempt to forcibly remount, call drive.mount(\"/content/gdrive\", force_remount=True).\n"
     ]
    }
   ]
  },
  {
   "cell_type": "code",
   "metadata": {
    "colab": {
     "base_uri": "https://localhost:8080/"
    },
    "id": "5NAYZ2rZzLc_",
    "executionInfo": {
     "status": "ok",
     "timestamp": 1635944153851,
     "user_tz": -480,
     "elapsed": 7,
     "user": {
      "displayName": "Ansel Lim",
      "photoUrl": "https://lh3.googleusercontent.com/a/default-user=s64",
      "userId": "11711723797633555065"
     }
    },
    "outputId": "0f39ae7d-0908-4449-d1bb-767ba973b868"
   },
   "source": [
    "%cd /content/gdrive/MyDrive/6242_PROJECT/data"
   ],
   "execution_count": 7,
   "outputs": [
    {
     "output_type": "stream",
     "name": "stdout",
     "text": [
      "/content/gdrive/MyDrive/6242_PROJECT/data\n"
     ]
    }
   ]
  },
  {
   "cell_type": "code",
   "metadata": {
    "colab": {
     "base_uri": "https://localhost:8080/"
    },
    "id": "HNTRqZqJLaBa",
    "executionInfo": {
     "status": "ok",
     "timestamp": 1635944154354,
     "user_tz": -480,
     "elapsed": 508,
     "user": {
      "displayName": "Ansel Lim",
      "photoUrl": "https://lh3.googleusercontent.com/a/default-user=s64",
      "userId": "11711723797633555065"
     }
    },
    "outputId": "00f83a05-9aba-4db8-f51a-7a692a3db4c5"
   },
   "source": [
    "%ls"
   ],
   "execution_count": 8,
   "outputs": [
    {
     "output_type": "stream",
     "name": "stdout",
     "text": [
      "amenities.csv              eating-establishments.kml\n",
      "bus_stops.csv              general-information-of-schools.csv\n",
      "carparks.csv               listing-of-supermarkets.csv\n",
      "data-download.png          \u001B[0m\u001B[01;34mprocessed\u001B[0m/\n",
      "data_hawker.csv            secondary_schools.csv\n",
      "data_hawker.gsheet         secondary_schools.gsheet\n",
      "data_malls.csv             supermarkets.csv\n",
      "data_MRT.csv               taxi_stands.csv\n",
      "data_prischools.csv        ura.csv\n",
      "data_prischools.gsheet     ura_join_bus_stops.csv\n",
      "eating_establishments.csv\n"
     ]
    }
   ]
  },
  {
   "cell_type": "code",
   "metadata": {
    "id": "TKXOMVcEKTtb",
    "executionInfo": {
     "status": "ok",
     "timestamp": 1635944154355,
     "user_tz": -480,
     "elapsed": 7,
     "user": {
      "displayName": "Ansel Lim",
      "photoUrl": "https://lh3.googleusercontent.com/a/default-user=s64",
      "userId": "11711723797633555065"
     }
    }
   },
   "source": [
    "# somewhere in sentosa cove\n",
    "lat1=1.242440985\n",
    "long1=103.8367552\n",
    "sentosa = (lat1,long1)\n",
    "\n",
    "# alexandra view condominium near redhill\n",
    "lat2=1.290030671\n",
    "long2=103.8171853\n",
    "redhill = (lat2,long2)"
   ],
   "execution_count": 9,
   "outputs": []
  },
  {
   "cell_type": "code",
   "metadata": {
    "colab": {
     "base_uri": "https://localhost:8080/"
    },
    "id": "CNvPPceMLAXF",
    "executionInfo": {
     "status": "ok",
     "timestamp": 1635944154355,
     "user_tz": -480,
     "elapsed": 6,
     "user": {
      "displayName": "Ansel Lim",
      "photoUrl": "https://lh3.googleusercontent.com/a/default-user=s64",
      "userId": "11711723797633555065"
     }
    },
    "outputId": "7c00284a-a5b0-440f-8f7c-2c8894f4a0a5"
   },
   "source": [
    "geodesic(sentosa,redhill).km"
   ],
   "execution_count": 10,
   "outputs": [
    {
     "output_type": "execute_result",
     "data": {
      "text/plain": [
       "5.695136317712519"
      ]
     },
     "metadata": {},
     "execution_count": 10
    }
   ]
  },
  {
   "cell_type": "code",
   "metadata": {
    "id": "WETut2K1LItR",
    "executionInfo": {
     "status": "ok",
     "timestamp": 1635959430875,
     "user_tz": -480,
     "elapsed": 1175,
     "user": {
      "displayName": "Ansel Lim",
      "photoUrl": "https://lh3.googleusercontent.com/a/default-user=s64",
      "userId": "11711723797633555065"
     }
    }
   },
   "source": [
    "ura = pd.read_csv(\"./ura.csv\")\n",
    "malls = pd.read_csv(\"./data_malls.csv\")\n",
    "taxi_stands = pd.read_csv(\"./taxi_stands.csv\")\n",
    "primary_schools=pd.read_csv(\"./data_prischools.csv\")\n",
    "mrt = pd.read_csv(\"./data_MRT.csv\")\n",
    "hawker=pd.read_csv(\"./data_hawker.csv\")\n",
    "carparks=pd.read_csv(\"./carparks.csv\")\n",
    "bus_stops = pd.read_csv(\"./bus_stops.csv\")\n",
    "amenities = pd.read_csv(\"./amenities.csv\")\n",
    "supermarkets = pd.read_csv(\"./supermarkets.csv\")\n",
    "secondary_schools=pd.read_csv(\"./secondary_schools.csv\")\n",
    "eating_establishments=pd.read_csv(\"./eating_establishments.csv\")\n",
    "parks = pd.read_csv(\"./parks.csv\")"
   ],
   "execution_count": 35,
   "outputs": []
  },
  {
   "cell_type": "code",
   "metadata": {
    "id": "-0JEDb9EUjpG",
    "executionInfo": {
     "status": "ok",
     "timestamp": 1635944155920,
     "user_tz": -480,
     "elapsed": 17,
     "user": {
      "displayName": "Ansel Lim",
      "photoUrl": "https://lh3.googleusercontent.com/a/default-user=s64",
      "userId": "11711723797633555065"
     }
    }
   },
   "source": [],
   "execution_count": 11,
   "outputs": []
  },
  {
   "cell_type": "code",
   "metadata": {
    "id": "wWJ53dCmUkNB",
    "executionInfo": {
     "status": "ok",
     "timestamp": 1635944155921,
     "user_tz": -480,
     "elapsed": 17,
     "user": {
      "displayName": "Ansel Lim",
      "photoUrl": "https://lh3.googleusercontent.com/a/default-user=s64",
      "userId": "11711723797633555065"
     }
    }
   },
   "source": [],
   "execution_count": 11,
   "outputs": []
  },
  {
   "cell_type": "code",
   "metadata": {
    "id": "w08fiCbSQBhz",
    "executionInfo": {
     "status": "ok",
     "timestamp": 1635944155921,
     "user_tz": -480,
     "elapsed": 16,
     "user": {
      "displayName": "Ansel Lim",
      "photoUrl": "https://lh3.googleusercontent.com/a/default-user=s64",
      "userId": "11711723797633555065"
     }
    }
   },
   "source": [
    "df = ura.copy(deep=True)"
   ],
   "execution_count": 12,
   "outputs": []
  },
  {
   "cell_type": "code",
   "metadata": {
    "id": "f7imbCQTPLld",
    "executionInfo": {
     "status": "ok",
     "timestamp": 1635944155921,
     "user_tz": -480,
     "elapsed": 16,
     "user": {
      "displayName": "Ansel Lim",
      "photoUrl": "https://lh3.googleusercontent.com/a/default-user=s64",
      "userId": "11711723797633555065"
     }
    }
   },
   "source": [
    "taxi_stands[\"lat\"],taxi_stands[\"long\"] = taxi_stands[\"Latitude\"],taxi_stands[\"Longitude\"]\n",
    "primary_schools[['long','lat']]=primary_schools['coordinates'].str.split(',',1,expand=True)\n",
    "mrt[['long','lat']]=mrt['Coordinates'].str.split(',',1,expand=True)\n",
    "hawker[['long','lat']]=hawker['Coordinates'].str.split(',',1,expand=True)\n",
    "hawker['lat']=hawker['lat'].str.rstrip(\",0.0\")\n",
    "carparks['lat'],carparks['long']=carparks['latitude'],carparks['longitude']\n",
    "bus_stops['lat'],bus_stops['long']=bus_stops['Latitude'],bus_stops['Longitude']"
   ],
   "execution_count": 13,
   "outputs": []
  },
  {
   "cell_type": "code",
   "metadata": {
    "id": "jjmWd4w9S3h0",
    "executionInfo": {
     "status": "ok",
     "timestamp": 1635944155922,
     "user_tz": -480,
     "elapsed": 16,
     "user": {
      "displayName": "Ansel Lim",
      "photoUrl": "https://lh3.googleusercontent.com/a/default-user=s64",
      "userId": "11711723797633555065"
     }
    }
   },
   "source": [
    "# amenities['coordinates'] = amenities[\"geometry\"].str.replace(r\"[a-zA-Z()]\",'')"
   ],
   "execution_count": 14,
   "outputs": []
  },
  {
   "cell_type": "code",
   "metadata": {
    "colab": {
     "base_uri": "https://localhost:8080/",
     "height": 1000
    },
    "id": "H5lDjohjdJNE",
    "executionInfo": {
     "status": "ok",
     "timestamp": 1635944155922,
     "user_tz": -480,
     "elapsed": 16,
     "user": {
      "displayName": "Ansel Lim",
      "photoUrl": "https://lh3.googleusercontent.com/a/default-user=s64",
      "userId": "11711723797633555065"
     }
    },
    "outputId": "263f5734-faf4-4c8b-c611-11d320b13db8"
   },
   "source": [
    "hawker"
   ],
   "execution_count": 15,
   "outputs": [
    {
     "output_type": "execute_result",
     "data": {
      "text/html": [
       "<div>\n",
       "<style scoped>\n",
       "    .dataframe tbody tr th:only-of-type {\n",
       "        vertical-align: middle;\n",
       "    }\n",
       "\n",
       "    .dataframe tbody tr th {\n",
       "        vertical-align: top;\n",
       "    }\n",
       "\n",
       "    .dataframe thead th {\n",
       "        text-align: right;\n",
       "    }\n",
       "</style>\n",
       "<table border=\"1\" class=\"dataframe\">\n",
       "  <thead>\n",
       "    <tr style=\"text-align: right;\">\n",
       "      <th></th>\n",
       "      <th>ID</th>\n",
       "      <th>Category</th>\n",
       "      <th>Name</th>\n",
       "      <th>Coordinates</th>\n",
       "      <th>rating</th>\n",
       "      <th>user_ratings_total</th>\n",
       "      <th>long</th>\n",
       "      <th>lat</th>\n",
       "    </tr>\n",
       "  </thead>\n",
       "  <tbody>\n",
       "    <tr>\n",
       "      <th>0</th>\n",
       "      <td>1</td>\n",
       "      <td>Hawker Centre</td>\n",
       "      <td>Bedok North Street 4 Blk 85 (85 Fengshan Centre)</td>\n",
       "      <td>103.938732580554,1.33198706861747,0.0</td>\n",
       "      <td>4.3</td>\n",
       "      <td>1064</td>\n",
       "      <td>103.938732580554</td>\n",
       "      <td>1.33198706861747</td>\n",
       "    </tr>\n",
       "    <tr>\n",
       "      <th>1</th>\n",
       "      <td>2</td>\n",
       "      <td>Hawker Centre</td>\n",
       "      <td>Redhill Lane Blk 85 (Redhill Food Centre)</td>\n",
       "      <td>103.818338919994,1.28733076703987,0.0</td>\n",
       "      <td>4.2</td>\n",
       "      <td>1942</td>\n",
       "      <td>103.818338919994</td>\n",
       "      <td>1.28733076703987</td>\n",
       "    </tr>\n",
       "    <tr>\n",
       "      <th>2</th>\n",
       "      <td>3</td>\n",
       "      <td>Hawker Centre</td>\n",
       "      <td>Sembawang Hills Food Centre (Jalan Leban Food ...</td>\n",
       "      <td>103.828994204342,1.37238494002145,0.0</td>\n",
       "      <td>3.9</td>\n",
       "      <td>1891</td>\n",
       "      <td>103.828994204342</td>\n",
       "      <td>1.37238494002145</td>\n",
       "    </tr>\n",
       "    <tr>\n",
       "      <th>3</th>\n",
       "      <td>4</td>\n",
       "      <td>Hawker Centre</td>\n",
       "      <td>Serangoon Garden Market</td>\n",
       "      <td>103.866737484646,1.3631571201113,0.0</td>\n",
       "      <td>4.1</td>\n",
       "      <td>2436</td>\n",
       "      <td>103.866737484646</td>\n",
       "      <td>1.3631571201113</td>\n",
       "    </tr>\n",
       "    <tr>\n",
       "      <th>4</th>\n",
       "      <td>5</td>\n",
       "      <td>Hawker Centre</td>\n",
       "      <td>Shunfu Road Blk 320 (Shunfu Mart)</td>\n",
       "      <td>103.837031803823,1.35200744198417,0.0</td>\n",
       "      <td>3.9</td>\n",
       "      <td>1574</td>\n",
       "      <td>103.837031803823</td>\n",
       "      <td>1.35200744198417</td>\n",
       "    </tr>\n",
       "    <tr>\n",
       "      <th>...</th>\n",
       "      <td>...</td>\n",
       "      <td>...</td>\n",
       "      <td>...</td>\n",
       "      <td>...</td>\n",
       "      <td>...</td>\n",
       "      <td>...</td>\n",
       "      <td>...</td>\n",
       "      <td>...</td>\n",
       "    </tr>\n",
       "    <tr>\n",
       "      <th>114</th>\n",
       "      <td>121</td>\n",
       "      <td>Hawker Centre</td>\n",
       "      <td>Jurong West Street 52 Blk 505</td>\n",
       "      <td>103.71844754363,1.34964224318434,0.0</td>\n",
       "      <td>4.0</td>\n",
       "      <td>3824</td>\n",
       "      <td>103.71844754363</td>\n",
       "      <td>1.34964224318434</td>\n",
       "    </tr>\n",
       "    <tr>\n",
       "      <th>115</th>\n",
       "      <td>122</td>\n",
       "      <td>Hawker Centre</td>\n",
       "      <td>Kallang Estate Fresh Market and Food Centre</td>\n",
       "      <td>103.884130183315,1.30739616009942,0.0</td>\n",
       "      <td>4.1</td>\n",
       "      <td>581</td>\n",
       "      <td>103.884130183315</td>\n",
       "      <td>1.30739616009942</td>\n",
       "    </tr>\n",
       "    <tr>\n",
       "      <th>116</th>\n",
       "      <td>123</td>\n",
       "      <td>Hawker Centre</td>\n",
       "      <td>Kampung Admiralty Hawker Centre</td>\n",
       "      <td>103.800696448529,1.43993283228134,0.0</td>\n",
       "      <td>4.1</td>\n",
       "      <td>4060</td>\n",
       "      <td>103.800696448529</td>\n",
       "      <td>1.43993283228134</td>\n",
       "    </tr>\n",
       "    <tr>\n",
       "      <th>117</th>\n",
       "      <td>124</td>\n",
       "      <td>Hawker Centre</td>\n",
       "      <td>Marine Parade Central Blk 84 (84 Marine Parade...</td>\n",
       "      <td>103.906338526157,1.30228513841822,0.0</td>\n",
       "      <td>4.0</td>\n",
       "      <td>1177</td>\n",
       "      <td>103.906338526157</td>\n",
       "      <td>1.30228513841822</td>\n",
       "    </tr>\n",
       "    <tr>\n",
       "      <th>118</th>\n",
       "      <td>125</td>\n",
       "      <td>Hawker Centre</td>\n",
       "      <td>Marine Terrace Blk 50A (50A Marine Terrace)</td>\n",
       "      <td>103.915761950557,1.30577514781108,0.0</td>\n",
       "      <td>4.0</td>\n",
       "      <td>1089</td>\n",
       "      <td>103.915761950557</td>\n",
       "      <td>1.30577514781108</td>\n",
       "    </tr>\n",
       "  </tbody>\n",
       "</table>\n",
       "<p>119 rows × 8 columns</p>\n",
       "</div>"
      ],
      "text/plain": [
       "      ID       Category  ...              long               lat\n",
       "0      1  Hawker Centre  ...  103.938732580554  1.33198706861747\n",
       "1      2  Hawker Centre  ...  103.818338919994  1.28733076703987\n",
       "2      3  Hawker Centre  ...  103.828994204342  1.37238494002145\n",
       "3      4  Hawker Centre  ...  103.866737484646   1.3631571201113\n",
       "4      5  Hawker Centre  ...  103.837031803823  1.35200744198417\n",
       "..   ...            ...  ...               ...               ...\n",
       "114  121  Hawker Centre  ...   103.71844754363  1.34964224318434\n",
       "115  122  Hawker Centre  ...  103.884130183315  1.30739616009942\n",
       "116  123  Hawker Centre  ...  103.800696448529  1.43993283228134\n",
       "117  124  Hawker Centre  ...  103.906338526157  1.30228513841822\n",
       "118  125  Hawker Centre  ...  103.915761950557  1.30577514781108\n",
       "\n",
       "[119 rows x 8 columns]"
      ]
     },
     "metadata": {},
     "execution_count": 15
    }
   ]
  },
  {
   "cell_type": "code",
   "metadata": {
    "id": "wlM8nPegUWBA",
    "executionInfo": {
     "status": "ok",
     "timestamp": 1635944155922,
     "user_tz": -480,
     "elapsed": 15,
     "user": {
      "displayName": "Ansel Lim",
      "photoUrl": "https://lh3.googleusercontent.com/a/default-user=s64",
      "userId": "11711723797633555065"
     }
    }
   },
   "source": [
    "def getLatLong(x):\n",
    "  coordinates = x['coordinates']\n",
    "  lat,long=re.findall('[0-9.]+', coordinates)[:2] # get first pair of coordinates (because some geometries are polygons)\n",
    "  return (long,lat) "
   ],
   "execution_count": 16,
   "outputs": []
  },
  {
   "cell_type": "code",
   "metadata": {
    "id": "qno4F-_oU2pz",
    "executionInfo": {
     "status": "ok",
     "timestamp": 1635944155923,
     "user_tz": -480,
     "elapsed": 15,
     "user": {
      "displayName": "Ansel Lim",
      "photoUrl": "https://lh3.googleusercontent.com/a/default-user=s64",
      "userId": "11711723797633555065"
     }
    }
   },
   "source": [
    "# getLatLong(amenities.loc[0,:])"
   ],
   "execution_count": 17,
   "outputs": []
  },
  {
   "cell_type": "code",
   "metadata": {
    "id": "5TX65F9zU2sW",
    "executionInfo": {
     "status": "ok",
     "timestamp": 1635944155923,
     "user_tz": -480,
     "elapsed": 15,
     "user": {
      "displayName": "Ansel Lim",
      "photoUrl": "https://lh3.googleusercontent.com/a/default-user=s64",
      "userId": "11711723797633555065"
     }
    }
   },
   "source": [
    "# amenities[['lat','long']] = amenities.apply(getLatLong,axis=1,result_type='expand')"
   ],
   "execution_count": 18,
   "outputs": []
  },
  {
   "cell_type": "code",
   "metadata": {
    "colab": {
     "base_uri": "https://localhost:8080/",
     "height": 719
    },
    "id": "D_TvPh4yVj4K",
    "executionInfo": {
     "status": "ok",
     "timestamp": 1635944155923,
     "user_tz": -480,
     "elapsed": 15,
     "user": {
      "displayName": "Ansel Lim",
      "photoUrl": "https://lh3.googleusercontent.com/a/default-user=s64",
      "userId": "11711723797633555065"
     }
    },
    "outputId": "3074798e-cf39-478d-ff6c-73a4c08d2304"
   },
   "source": [
    "amenities"
   ],
   "execution_count": 19,
   "outputs": [
    {
     "output_type": "execute_result",
     "data": {
      "text/html": [
       "<div>\n",
       "<style scoped>\n",
       "    .dataframe tbody tr th:only-of-type {\n",
       "        vertical-align: middle;\n",
       "    }\n",
       "\n",
       "    .dataframe tbody tr th {\n",
       "        vertical-align: top;\n",
       "    }\n",
       "\n",
       "    .dataframe thead th {\n",
       "        text-align: right;\n",
       "    }\n",
       "</style>\n",
       "<table border=\"1\" class=\"dataframe\">\n",
       "  <thead>\n",
       "    <tr style=\"text-align: right;\">\n",
       "      <th></th>\n",
       "      <th>facility_name</th>\n",
       "      <th>facility_type</th>\n",
       "      <th>address</th>\n",
       "      <th>lat</th>\n",
       "      <th>long</th>\n",
       "    </tr>\n",
       "  </thead>\n",
       "  <tbody>\n",
       "    <tr>\n",
       "      <th>0</th>\n",
       "      <td>CHEN FAMILY CLINIC</td>\n",
       "      <td>CHAS Clinic</td>\n",
       "      <td>153 SERANGOON NORTH AVE 1 550153</td>\n",
       "      <td>1.369951</td>\n",
       "      <td>103.872312</td>\n",
       "    </tr>\n",
       "    <tr>\n",
       "      <th>1</th>\n",
       "      <td>CHENG CLINIC</td>\n",
       "      <td>CHAS Clinic</td>\n",
       "      <td>447 ANG MO KIO AVE 10 560447</td>\n",
       "      <td>1.367479</td>\n",
       "      <td>103.855967</td>\n",
       "    </tr>\n",
       "    <tr>\n",
       "      <th>2</th>\n",
       "      <td>CHEONG FAMILY CLINIC PTE LTD</td>\n",
       "      <td>CHAS Clinic</td>\n",
       "      <td>45 OWEN RD 210045</td>\n",
       "      <td>1.315596</td>\n",
       "      <td>103.850825</td>\n",
       "    </tr>\n",
       "    <tr>\n",
       "      <th>3</th>\n",
       "      <td>CHEONG MEDICAL CLINIC</td>\n",
       "      <td>CHAS Clinic</td>\n",
       "      <td>76 JLN JURONG KECHIL 598589</td>\n",
       "      <td>1.340549</td>\n",
       "      <td>103.773330</td>\n",
       "    </tr>\n",
       "    <tr>\n",
       "      <th>4</th>\n",
       "      <td>CHERN MEDICAL CLINIC</td>\n",
       "      <td>CHAS Clinic</td>\n",
       "      <td>138 TAMPINES ST 11 521138</td>\n",
       "      <td>1.345505</td>\n",
       "      <td>103.945588</td>\n",
       "    </tr>\n",
       "    <tr>\n",
       "      <th>...</th>\n",
       "      <td>...</td>\n",
       "      <td>...</td>\n",
       "      <td>...</td>\n",
       "      <td>...</td>\n",
       "      <td>...</td>\n",
       "    </tr>\n",
       "    <tr>\n",
       "      <th>1476</th>\n",
       "      <td>Sports SG Sports Hall/Stadium/Gym Bukit Batok ...</td>\n",
       "      <td>Sports Hall/Stadium/Gym</td>\n",
       "      <td>Bukit Batok West Avenue 5</td>\n",
       "      <td>1.358588</td>\n",
       "      <td>103.753000</td>\n",
       "    </tr>\n",
       "    <tr>\n",
       "      <th>1477</th>\n",
       "      <td>Sports SG Stadium Bedok North Street 2</td>\n",
       "      <td>Stadium</td>\n",
       "      <td>Bedok North Street 2</td>\n",
       "      <td>1.326171</td>\n",
       "      <td>103.938076</td>\n",
       "    </tr>\n",
       "    <tr>\n",
       "      <th>1478</th>\n",
       "      <td>Sports SG Squash Centre/Tennis Centre Burghley...</td>\n",
       "      <td>Squash Centre/Tennis Centre</td>\n",
       "      <td>Burghley Drive</td>\n",
       "      <td>1.359302</td>\n",
       "      <td>103.860543</td>\n",
       "    </tr>\n",
       "    <tr>\n",
       "      <th>1479</th>\n",
       "      <td>Sports SG Swimming Complex/Sports Hall/Stadium...</td>\n",
       "      <td>Swimming Complex/Sports Hall/Stadium/Futsal Co...</td>\n",
       "      <td>Choa Chu Kang Street 53</td>\n",
       "      <td>1.391030</td>\n",
       "      <td>103.748633</td>\n",
       "    </tr>\n",
       "    <tr>\n",
       "      <th>1480</th>\n",
       "      <td>Sports SG Stadium Fourth Chin Bee Road</td>\n",
       "      <td>Stadium</td>\n",
       "      <td>Fourth Chin Bee Road</td>\n",
       "      <td>1.332797</td>\n",
       "      <td>103.719373</td>\n",
       "    </tr>\n",
       "  </tbody>\n",
       "</table>\n",
       "<p>1481 rows × 5 columns</p>\n",
       "</div>"
      ],
      "text/plain": [
       "                                          facility_name  ...        long\n",
       "0                                    CHEN FAMILY CLINIC  ...  103.872312\n",
       "1                                          CHENG CLINIC  ...  103.855967\n",
       "2                          CHEONG FAMILY CLINIC PTE LTD  ...  103.850825\n",
       "3                                 CHEONG MEDICAL CLINIC  ...  103.773330\n",
       "4                                  CHERN MEDICAL CLINIC  ...  103.945588\n",
       "...                                                 ...  ...         ...\n",
       "1476  Sports SG Sports Hall/Stadium/Gym Bukit Batok ...  ...  103.753000\n",
       "1477             Sports SG Stadium Bedok North Street 2  ...  103.938076\n",
       "1478  Sports SG Squash Centre/Tennis Centre Burghley...  ...  103.860543\n",
       "1479  Sports SG Swimming Complex/Sports Hall/Stadium...  ...  103.748633\n",
       "1480             Sports SG Stadium Fourth Chin Bee Road  ...  103.719373\n",
       "\n",
       "[1481 rows x 5 columns]"
      ]
     },
     "metadata": {},
     "execution_count": 19
    }
   ]
  },
  {
   "cell_type": "code",
   "metadata": {
    "colab": {
     "base_uri": "https://localhost:8080/"
    },
    "id": "jMB69jCERUD_",
    "executionInfo": {
     "status": "ok",
     "timestamp": 1635944155924,
     "user_tz": -480,
     "elapsed": 15,
     "user": {
      "displayName": "Ansel Lim",
      "photoUrl": "https://lh3.googleusercontent.com/a/default-user=s64",
      "userId": "11711723797633555065"
     }
    },
    "outputId": "58c0e582-62ff-450d-ad97-cba5c3827100"
   },
   "source": [
    "amenities.facility_type.value_counts()"
   ],
   "execution_count": 20,
   "outputs": [
    {
     "output_type": "execute_result",
     "data": {
      "text/plain": [
       "CHAS Clinic                                                                      1167\n",
       "Gym                                                                               160\n",
       "Community Centre                                                                  120\n",
       "Swimming Complex                                                                    6\n",
       "Swimming Complex/Sports Hall/Stadium/Gym                                            4\n",
       "Stadium                                                                             3\n",
       "Swimming Complex/Sports Hall/Stadium/Tennis Centre/Gym                              2\n",
       "Field/Tennis Centre                                                                 2\n",
       "Sports Hall/Stadium/Gym                                                             2\n",
       "Swimming Complex/Sports Hall/Gym                                                    2\n",
       "Swimming Complex/Stadium                                                            2\n",
       "Swimming Complex/Sports Hall/Gym/Hockey Pitch                                       2\n",
       "Swimming Complex/Sports Hall/Stadium/Tennis Centre/Squash Centre/Gym                1\n",
       "Swimming Complex/ Stadium                                                           1\n",
       "Swimming Complex/Sports Hall/Tennis Centre/Gym                                      1\n",
       "Field                                                                               1\n",
       "Practice Track/Field/Tennis Centre/Squash Centre/Netball Centre/Lawn Bowl           1\n",
       "Swimming Complex/Sports Hall/Stadium/Gym/Gateball & Petanque Courts                 1\n",
       "Squash Centre/Tennis Centre                                                         1\n",
       "Swimming Complex/Sports Hall/Stadium/Futsal Court/Tennis Centre/Gym                 1\n",
       "Sports Hall/Stadium/Swimming Complex/Tennis Centre/Squash Centre/Hockey Pitch       1\n",
       "Name: facility_type, dtype: int64"
      ]
     },
     "metadata": {},
     "execution_count": 20
    }
   ]
  },
  {
   "cell_type": "code",
   "metadata": {
    "id": "gqDOAFeSRtdb",
    "executionInfo": {
     "status": "ok",
     "timestamp": 1635944155924,
     "user_tz": -480,
     "elapsed": 12,
     "user": {
      "displayName": "Ansel Lim",
      "photoUrl": "https://lh3.googleusercontent.com/a/default-user=s64",
      "userId": "11711723797633555065"
     }
    }
   },
   "source": [
    "sports_facility_types = list(amenities.facility_type.unique())\n",
    "sports_facility_types.remove('CHAS Clinic')\n",
    "sports_facility_types.remove('Community Centre')"
   ],
   "execution_count": 21,
   "outputs": []
  },
  {
   "cell_type": "code",
   "metadata": {
    "id": "oReYZrADRf13",
    "executionInfo": {
     "status": "ok",
     "timestamp": 1635944155924,
     "user_tz": -480,
     "elapsed": 12,
     "user": {
      "displayName": "Ansel Lim",
      "photoUrl": "https://lh3.googleusercontent.com/a/default-user=s64",
      "userId": "11711723797633555065"
     }
    }
   },
   "source": [
    "chas_clinics = amenities[amenities['facility_type']=='CHAS Clinic'].reset_index()\n",
    "sports_facilities = amenities[amenities['facility_type'].isin(sports_facility_types)].reset_index()\n",
    "community_centers = amenities[amenities['facility_type']=='Community Centre'].reset_index()"
   ],
   "execution_count": 22,
   "outputs": []
  },
  {
   "cell_type": "code",
   "metadata": {
    "colab": {
     "base_uri": "https://localhost:8080/",
     "height": 652
    },
    "id": "gXRBaeZ7Vet7",
    "executionInfo": {
     "status": "ok",
     "timestamp": 1635944155925,
     "user_tz": -480,
     "elapsed": 12,
     "user": {
      "displayName": "Ansel Lim",
      "photoUrl": "https://lh3.googleusercontent.com/a/default-user=s64",
      "userId": "11711723797633555065"
     }
    },
    "outputId": "75e7178d-39ae-4766-8e03-df2935841cba"
   },
   "source": [
    "chas_clinics"
   ],
   "execution_count": 23,
   "outputs": [
    {
     "output_type": "execute_result",
     "data": {
      "text/html": [
       "<div>\n",
       "<style scoped>\n",
       "    .dataframe tbody tr th:only-of-type {\n",
       "        vertical-align: middle;\n",
       "    }\n",
       "\n",
       "    .dataframe tbody tr th {\n",
       "        vertical-align: top;\n",
       "    }\n",
       "\n",
       "    .dataframe thead th {\n",
       "        text-align: right;\n",
       "    }\n",
       "</style>\n",
       "<table border=\"1\" class=\"dataframe\">\n",
       "  <thead>\n",
       "    <tr style=\"text-align: right;\">\n",
       "      <th></th>\n",
       "      <th>index</th>\n",
       "      <th>facility_name</th>\n",
       "      <th>facility_type</th>\n",
       "      <th>address</th>\n",
       "      <th>lat</th>\n",
       "      <th>long</th>\n",
       "    </tr>\n",
       "  </thead>\n",
       "  <tbody>\n",
       "    <tr>\n",
       "      <th>0</th>\n",
       "      <td>0</td>\n",
       "      <td>CHEN FAMILY CLINIC</td>\n",
       "      <td>CHAS Clinic</td>\n",
       "      <td>153 SERANGOON NORTH AVE 1 550153</td>\n",
       "      <td>1.369951</td>\n",
       "      <td>103.872312</td>\n",
       "    </tr>\n",
       "    <tr>\n",
       "      <th>1</th>\n",
       "      <td>1</td>\n",
       "      <td>CHENG CLINIC</td>\n",
       "      <td>CHAS Clinic</td>\n",
       "      <td>447 ANG MO KIO AVE 10 560447</td>\n",
       "      <td>1.367479</td>\n",
       "      <td>103.855967</td>\n",
       "    </tr>\n",
       "    <tr>\n",
       "      <th>2</th>\n",
       "      <td>2</td>\n",
       "      <td>CHEONG FAMILY CLINIC PTE LTD</td>\n",
       "      <td>CHAS Clinic</td>\n",
       "      <td>45 OWEN RD 210045</td>\n",
       "      <td>1.315596</td>\n",
       "      <td>103.850825</td>\n",
       "    </tr>\n",
       "    <tr>\n",
       "      <th>3</th>\n",
       "      <td>3</td>\n",
       "      <td>CHEONG MEDICAL CLINIC</td>\n",
       "      <td>CHAS Clinic</td>\n",
       "      <td>76 JLN JURONG KECHIL 598589</td>\n",
       "      <td>1.340549</td>\n",
       "      <td>103.773330</td>\n",
       "    </tr>\n",
       "    <tr>\n",
       "      <th>4</th>\n",
       "      <td>4</td>\n",
       "      <td>CHERN MEDICAL CLINIC</td>\n",
       "      <td>CHAS Clinic</td>\n",
       "      <td>138 TAMPINES ST 11 521138</td>\n",
       "      <td>1.345505</td>\n",
       "      <td>103.945588</td>\n",
       "    </tr>\n",
       "    <tr>\n",
       "      <th>...</th>\n",
       "      <td>...</td>\n",
       "      <td>...</td>\n",
       "      <td>...</td>\n",
       "      <td>...</td>\n",
       "      <td>...</td>\n",
       "      <td>...</td>\n",
       "    </tr>\n",
       "    <tr>\n",
       "      <th>1162</th>\n",
       "      <td>1162</td>\n",
       "      <td>ZENITH MEDICAL CLINIC</td>\n",
       "      <td>CHAS Clinic</td>\n",
       "      <td>266C PUNGGOL WAY 823266</td>\n",
       "      <td>1.405154</td>\n",
       "      <td>103.897805</td>\n",
       "    </tr>\n",
       "    <tr>\n",
       "      <th>1163</th>\n",
       "      <td>1163</td>\n",
       "      <td>Zam Family Clinic</td>\n",
       "      <td>CHAS Clinic</td>\n",
       "      <td>516 CHOA CHU KANG STREET 51 680516</td>\n",
       "      <td>1.390951</td>\n",
       "      <td>103.743525</td>\n",
       "    </tr>\n",
       "    <tr>\n",
       "      <th>1164</th>\n",
       "      <td>1164</td>\n",
       "      <td>banyan clinic @ jw</td>\n",
       "      <td>CHAS Clinic</td>\n",
       "      <td>502 JURONG WEST AVENUE 1 640502</td>\n",
       "      <td>1.350501</td>\n",
       "      <td>103.718335</td>\n",
       "    </tr>\n",
       "    <tr>\n",
       "      <th>1165</th>\n",
       "      <td>1165</td>\n",
       "      <td>i.Medical &amp; i.Aesthetics</td>\n",
       "      <td>CHAS Clinic</td>\n",
       "      <td>1 NORTHPOINT DRIVE 768019</td>\n",
       "      <td>1.427903</td>\n",
       "      <td>103.836178</td>\n",
       "    </tr>\n",
       "    <tr>\n",
       "      <th>1166</th>\n",
       "      <td>1166</td>\n",
       "      <td>iCare Medical and Wellness Clinic</td>\n",
       "      <td>CHAS Clinic</td>\n",
       "      <td>22 HAVELOCK ROAD 160022</td>\n",
       "      <td>1.288746</td>\n",
       "      <td>103.828824</td>\n",
       "    </tr>\n",
       "  </tbody>\n",
       "</table>\n",
       "<p>1167 rows × 6 columns</p>\n",
       "</div>"
      ],
      "text/plain": [
       "      index                      facility_name  ...       lat        long\n",
       "0         0                 CHEN FAMILY CLINIC  ...  1.369951  103.872312\n",
       "1         1                       CHENG CLINIC  ...  1.367479  103.855967\n",
       "2         2       CHEONG FAMILY CLINIC PTE LTD  ...  1.315596  103.850825\n",
       "3         3              CHEONG MEDICAL CLINIC  ...  1.340549  103.773330\n",
       "4         4               CHERN MEDICAL CLINIC  ...  1.345505  103.945588\n",
       "...     ...                                ...  ...       ...         ...\n",
       "1162   1162              ZENITH MEDICAL CLINIC  ...  1.405154  103.897805\n",
       "1163   1163                  Zam Family Clinic  ...  1.390951  103.743525\n",
       "1164   1164                 banyan clinic @ jw  ...  1.350501  103.718335\n",
       "1165   1165           i.Medical & i.Aesthetics  ...  1.427903  103.836178\n",
       "1166   1166  iCare Medical and Wellness Clinic  ...  1.288746  103.828824\n",
       "\n",
       "[1167 rows x 6 columns]"
      ]
     },
     "metadata": {},
     "execution_count": 23
    }
   ]
  },
  {
   "cell_type": "code",
   "metadata": {
    "id": "tIs68LcbWc39",
    "executionInfo": {
     "status": "ok",
     "timestamp": 1635944155925,
     "user_tz": -480,
     "elapsed": 12,
     "user": {
      "displayName": "Ansel Lim",
      "photoUrl": "https://lh3.googleusercontent.com/a/default-user=s64",
      "userId": "11711723797633555065"
     }
    }
   },
   "source": [
    "places = [malls,taxi_stands,primary_schools,mrt,hawker,carparks,bus_stops,chas_clinics,sports_facilities,community_centers,supermarkets,secondary_schools,eating_establishments,parks]\n",
    "places_names = ['malls','taxi_stands','primary_schools','mrt','hawker','carparks','bus_stops','chas_clinics','sports_facilities','community_centers','supermarkets','secondary_schools','eating_establishments','parks']"
   ],
   "execution_count": 24,
   "outputs": []
  },
  {
   "cell_type": "code",
   "metadata": {
    "id": "y3ZHyLf9Xmlz",
    "executionInfo": {
     "status": "ok",
     "timestamp": 1635944155925,
     "user_tz": -480,
     "elapsed": 11,
     "user": {
      "displayName": "Ansel Lim",
      "photoUrl": "https://lh3.googleusercontent.com/a/default-user=s64",
      "userId": "11711723797633555065"
     }
    }
   },
   "source": [
    "assert len(places)==len(places_names)"
   ],
   "execution_count": 25,
   "outputs": []
  },
  {
   "cell_type": "code",
   "metadata": {
    "id": "7o2yTt54cizd",
    "executionInfo": {
     "status": "ok",
     "timestamp": 1635944155926,
     "user_tz": -480,
     "elapsed": 12,
     "user": {
      "displayName": "Ansel Lim",
      "photoUrl": "https://lh3.googleusercontent.com/a/default-user=s64",
      "userId": "11711723797633555065"
     }
    }
   },
   "source": [
    "# places=[hawker] #uncomment if testing only on hawker\n",
    "# places_names=['hawker']"
   ],
   "execution_count": 26,
   "outputs": []
  },
  {
   "cell_type": "code",
   "metadata": {
    "id": "KRDimAjZdvYf",
    "executionInfo": {
     "status": "ok",
     "timestamp": 1635944156504,
     "user_tz": -480,
     "elapsed": 590,
     "user": {
      "displayName": "Ansel Lim",
      "photoUrl": "https://lh3.googleusercontent.com/a/default-user=s64",
      "userId": "11711723797633555065"
     }
    }
   },
   "source": [
    "# places=[chas_clinics] #uncomment if testing only on chas clinics\n",
    "# places_names=['chas_clinics']"
   ],
   "execution_count": 27,
   "outputs": []
  },
  {
   "cell_type": "code",
   "metadata": {
    "id": "FP3DJ44tjzSJ",
    "executionInfo": {
     "status": "ok",
     "timestamp": 1635944156505,
     "user_tz": -480,
     "elapsed": 10,
     "user": {
      "displayName": "Ansel Lim",
      "photoUrl": "https://lh3.googleusercontent.com/a/default-user=s64",
      "userId": "11711723797633555065"
     }
    }
   },
   "source": [
    "# places=[sports_facilities] #uncomment if testing only on sports facilities\n",
    "# places_names=['sports_facilities']"
   ],
   "execution_count": 28,
   "outputs": []
  },
  {
   "cell_type": "code",
   "metadata": {
    "colab": {
     "base_uri": "https://localhost:8080/",
     "height": 820
    },
    "id": "Zn1vt0F0dC5c",
    "executionInfo": {
     "status": "ok",
     "timestamp": 1635944156505,
     "user_tz": -480,
     "elapsed": 9,
     "user": {
      "displayName": "Ansel Lim",
      "photoUrl": "https://lh3.googleusercontent.com/a/default-user=s64",
      "userId": "11711723797633555065"
     }
    },
    "outputId": "b3cdd381-8408-4971-b06b-c421fad76d92"
   },
   "source": [
    "sports_facilities"
   ],
   "execution_count": 29,
   "outputs": [
    {
     "output_type": "execute_result",
     "data": {
      "text/html": [
       "<div>\n",
       "<style scoped>\n",
       "    .dataframe tbody tr th:only-of-type {\n",
       "        vertical-align: middle;\n",
       "    }\n",
       "\n",
       "    .dataframe tbody tr th {\n",
       "        vertical-align: top;\n",
       "    }\n",
       "\n",
       "    .dataframe thead th {\n",
       "        text-align: right;\n",
       "    }\n",
       "</style>\n",
       "<table border=\"1\" class=\"dataframe\">\n",
       "  <thead>\n",
       "    <tr style=\"text-align: right;\">\n",
       "      <th></th>\n",
       "      <th>index</th>\n",
       "      <th>facility_name</th>\n",
       "      <th>facility_type</th>\n",
       "      <th>address</th>\n",
       "      <th>lat</th>\n",
       "      <th>long</th>\n",
       "    </tr>\n",
       "  </thead>\n",
       "  <tbody>\n",
       "    <tr>\n",
       "      <th>0</th>\n",
       "      <td>1287</td>\n",
       "      <td>The Pit</td>\n",
       "      <td>Gym</td>\n",
       "      <td>50 Tras Street 78989</td>\n",
       "      <td>1.278114</td>\n",
       "      <td>103.844202</td>\n",
       "    </tr>\n",
       "    <tr>\n",
       "      <th>1</th>\n",
       "      <td>1288</td>\n",
       "      <td>The Stable Mixed Martial Arts</td>\n",
       "      <td>Gym</td>\n",
       "      <td>100 Turf Club Road 287992</td>\n",
       "      <td>1.334220</td>\n",
       "      <td>103.795898</td>\n",
       "    </tr>\n",
       "    <tr>\n",
       "      <th>2</th>\n",
       "      <td>1289</td>\n",
       "      <td>Bishan ClubFITT Gym</td>\n",
       "      <td>Gym</td>\n",
       "      <td>5 Bishan St. 4 579783</td>\n",
       "      <td>1.355283</td>\n",
       "      <td>103.850922</td>\n",
       "    </tr>\n",
       "    <tr>\n",
       "      <th>3</th>\n",
       "      <td>1290</td>\n",
       "      <td>The Yoga Place</td>\n",
       "      <td>Gym</td>\n",
       "      <td>328 King George's Ave 208568</td>\n",
       "      <td>1.309922</td>\n",
       "      <td>103.862091</td>\n",
       "    </tr>\n",
       "    <tr>\n",
       "      <th>4</th>\n",
       "      <td>1291</td>\n",
       "      <td>Sky Fitness - Serangoon Gardens</td>\n",
       "      <td>Gym</td>\n",
       "      <td>45 Bughley Drive Blk B 559022</td>\n",
       "      <td>1.360010</td>\n",
       "      <td>103.859571</td>\n",
       "    </tr>\n",
       "    <tr>\n",
       "      <th>...</th>\n",
       "      <td>...</td>\n",
       "      <td>...</td>\n",
       "      <td>...</td>\n",
       "      <td>...</td>\n",
       "      <td>...</td>\n",
       "      <td>...</td>\n",
       "    </tr>\n",
       "    <tr>\n",
       "      <th>189</th>\n",
       "      <td>1476</td>\n",
       "      <td>Sports SG Sports Hall/Stadium/Gym Bukit Batok ...</td>\n",
       "      <td>Sports Hall/Stadium/Gym</td>\n",
       "      <td>Bukit Batok West Avenue 5</td>\n",
       "      <td>1.358588</td>\n",
       "      <td>103.753000</td>\n",
       "    </tr>\n",
       "    <tr>\n",
       "      <th>190</th>\n",
       "      <td>1477</td>\n",
       "      <td>Sports SG Stadium Bedok North Street 2</td>\n",
       "      <td>Stadium</td>\n",
       "      <td>Bedok North Street 2</td>\n",
       "      <td>1.326171</td>\n",
       "      <td>103.938076</td>\n",
       "    </tr>\n",
       "    <tr>\n",
       "      <th>191</th>\n",
       "      <td>1478</td>\n",
       "      <td>Sports SG Squash Centre/Tennis Centre Burghley...</td>\n",
       "      <td>Squash Centre/Tennis Centre</td>\n",
       "      <td>Burghley Drive</td>\n",
       "      <td>1.359302</td>\n",
       "      <td>103.860543</td>\n",
       "    </tr>\n",
       "    <tr>\n",
       "      <th>192</th>\n",
       "      <td>1479</td>\n",
       "      <td>Sports SG Swimming Complex/Sports Hall/Stadium...</td>\n",
       "      <td>Swimming Complex/Sports Hall/Stadium/Futsal Co...</td>\n",
       "      <td>Choa Chu Kang Street 53</td>\n",
       "      <td>1.391030</td>\n",
       "      <td>103.748633</td>\n",
       "    </tr>\n",
       "    <tr>\n",
       "      <th>193</th>\n",
       "      <td>1480</td>\n",
       "      <td>Sports SG Stadium Fourth Chin Bee Road</td>\n",
       "      <td>Stadium</td>\n",
       "      <td>Fourth Chin Bee Road</td>\n",
       "      <td>1.332797</td>\n",
       "      <td>103.719373</td>\n",
       "    </tr>\n",
       "  </tbody>\n",
       "</table>\n",
       "<p>194 rows × 6 columns</p>\n",
       "</div>"
      ],
      "text/plain": [
       "     index  ...        long\n",
       "0     1287  ...  103.844202\n",
       "1     1288  ...  103.795898\n",
       "2     1289  ...  103.850922\n",
       "3     1290  ...  103.862091\n",
       "4     1291  ...  103.859571\n",
       "..     ...  ...         ...\n",
       "189   1476  ...  103.753000\n",
       "190   1477  ...  103.938076\n",
       "191   1478  ...  103.860543\n",
       "192   1479  ...  103.748633\n",
       "193   1480  ...  103.719373\n",
       "\n",
       "[194 rows x 6 columns]"
      ]
     },
     "metadata": {},
     "execution_count": 29
    }
   ]
  },
  {
   "cell_type": "markdown",
   "source": [
    "# Calculate number of places of interest within radius, for each property -- except eating_establishments and parks."
   ],
   "metadata": {
    "collapsed": false
   }
  },
  {
   "cell_type": "code",
   "metadata": {
    "colab": {
     "base_uri": "https://localhost:8080/",
     "height": 841
    },
    "id": "oiPmJ0MTXhJc",
    "executionInfo": {
     "status": "error",
     "timestamp": 1635945785056,
     "user_tz": -480,
     "elapsed": 1628558,
     "user": {
      "displayName": "Ansel Lim",
      "photoUrl": "https://lh3.googleusercontent.com/a/default-user=s64",
      "userId": "11711723797633555065"
     }
    },
    "outputId": "0138cb33-5a80-419e-c873-f52d89fcf7ba"
   },
   "source": [
    "start=time.time()\n",
    "for i in range(len(places)):\n",
    "  dataframe = places[i]\n",
    "  place_name = places_names[i]\n",
    "  print(\"Working on feature dataframe {}\".format(place_name))\n",
    "  new_column_name = \"num_\"+place_name\n",
    "  df[new_column_name] = 0\n",
    "  for i in range(df.shape[0]):\n",
    "    lat1 = df.loc[i,\"lat\"]\n",
    "    long1 = df.loc[i,\"long\"]\n",
    "    origin = (lat1,long1)\n",
    "    counter = 0\n",
    "    for j in range(dataframe.shape[0]):\n",
    "      lat2 = dataframe.loc[j,\"lat\"]\n",
    "      long2 = dataframe.loc[j,\"long\"]\n",
    "      dest = (lat2,long2)\n",
    "      dist = geodesic(origin,dest).km\n",
    "      if dist<=RADIUS:\n",
    "        counter+=1\n",
    "    df.loc[i,new_column_name]=counter\n",
    "end=time.time()\n",
    "print(\"time taken: {}\".format(end-start))"
   ],
   "execution_count": 30,
   "outputs": [
    {
     "output_type": "stream",
     "name": "stdout",
     "text": [
      "Working on feature dataframe malls\n",
      "Working on feature dataframe taxi_stands\n",
      "Working on feature dataframe primary_schools\n",
      "Working on feature dataframe mrt\n",
      "Working on feature dataframe hawker\n",
      "Working on feature dataframe carparks\n",
      "Working on feature dataframe bus_stops\n",
      "Working on feature dataframe chas_clinics\n",
      "Working on feature dataframe sports_facilities\n",
      "Working on feature dataframe community_centers\n",
      "Working on feature dataframe supermarkets\n",
      "Working on feature dataframe secondary_schools\n",
      "Working on feature dataframe eating_establishments\n"
     ]
    },
    {
     "output_type": "error",
     "ename": "KeyError",
     "evalue": "ignored",
     "traceback": [
      "\u001B[0;31m---------------------------------------------------------------------------\u001B[0m",
      "\u001B[0;31mKeyError\u001B[0m                                  Traceback (most recent call last)",
      "\u001B[0;32m/usr/local/lib/python3.7/dist-packages/pandas/core/indexes/base.py\u001B[0m in \u001B[0;36mget_loc\u001B[0;34m(self, key, method, tolerance)\u001B[0m\n\u001B[1;32m   2897\u001B[0m             \u001B[0;32mtry\u001B[0m\u001B[0;34m:\u001B[0m\u001B[0;34m\u001B[0m\u001B[0;34m\u001B[0m\u001B[0m\n\u001B[0;32m-> 2898\u001B[0;31m                 \u001B[0;32mreturn\u001B[0m \u001B[0mself\u001B[0m\u001B[0;34m.\u001B[0m\u001B[0m_engine\u001B[0m\u001B[0;34m.\u001B[0m\u001B[0mget_loc\u001B[0m\u001B[0;34m(\u001B[0m\u001B[0mcasted_key\u001B[0m\u001B[0;34m)\u001B[0m\u001B[0;34m\u001B[0m\u001B[0;34m\u001B[0m\u001B[0m\n\u001B[0m\u001B[1;32m   2899\u001B[0m             \u001B[0;32mexcept\u001B[0m \u001B[0mKeyError\u001B[0m \u001B[0;32mas\u001B[0m \u001B[0merr\u001B[0m\u001B[0;34m:\u001B[0m\u001B[0;34m\u001B[0m\u001B[0;34m\u001B[0m\u001B[0m\n",
      "\u001B[0;32mpandas/_libs/index.pyx\u001B[0m in \u001B[0;36mpandas._libs.index.IndexEngine.get_loc\u001B[0;34m()\u001B[0m\n",
      "\u001B[0;32mpandas/_libs/index.pyx\u001B[0m in \u001B[0;36mpandas._libs.index.IndexEngine.get_loc\u001B[0;34m()\u001B[0m\n",
      "\u001B[0;32mpandas/_libs/hashtable_class_helper.pxi\u001B[0m in \u001B[0;36mpandas._libs.hashtable.PyObjectHashTable.get_item\u001B[0;34m()\u001B[0m\n",
      "\u001B[0;32mpandas/_libs/hashtable_class_helper.pxi\u001B[0m in \u001B[0;36mpandas._libs.hashtable.PyObjectHashTable.get_item\u001B[0;34m()\u001B[0m\n",
      "\u001B[0;31mKeyError\u001B[0m: 'long'",
      "\nThe above exception was the direct cause of the following exception:\n",
      "\u001B[0;31mKeyError\u001B[0m                                  Traceback (most recent call last)",
      "\u001B[0;32m<ipython-input-30-602c32456720>\u001B[0m in \u001B[0;36m<module>\u001B[0;34m()\u001B[0m\n\u001B[1;32m     13\u001B[0m     \u001B[0;32mfor\u001B[0m \u001B[0mj\u001B[0m \u001B[0;32min\u001B[0m \u001B[0mrange\u001B[0m\u001B[0;34m(\u001B[0m\u001B[0mdataframe\u001B[0m\u001B[0;34m.\u001B[0m\u001B[0mshape\u001B[0m\u001B[0;34m[\u001B[0m\u001B[0;36m0\u001B[0m\u001B[0;34m]\u001B[0m\u001B[0;34m)\u001B[0m\u001B[0;34m:\u001B[0m\u001B[0;34m\u001B[0m\u001B[0;34m\u001B[0m\u001B[0m\n\u001B[1;32m     14\u001B[0m       \u001B[0mlat2\u001B[0m \u001B[0;34m=\u001B[0m \u001B[0mdataframe\u001B[0m\u001B[0;34m.\u001B[0m\u001B[0mloc\u001B[0m\u001B[0;34m[\u001B[0m\u001B[0mj\u001B[0m\u001B[0;34m,\u001B[0m\u001B[0;34m\"lat\"\u001B[0m\u001B[0;34m]\u001B[0m\u001B[0;34m\u001B[0m\u001B[0;34m\u001B[0m\u001B[0m\n\u001B[0;32m---> 15\u001B[0;31m       \u001B[0mlong2\u001B[0m \u001B[0;34m=\u001B[0m \u001B[0mdataframe\u001B[0m\u001B[0;34m.\u001B[0m\u001B[0mloc\u001B[0m\u001B[0;34m[\u001B[0m\u001B[0mj\u001B[0m\u001B[0;34m,\u001B[0m\u001B[0;34m\"long\"\u001B[0m\u001B[0;34m]\u001B[0m\u001B[0;34m\u001B[0m\u001B[0;34m\u001B[0m\u001B[0m\n\u001B[0m\u001B[1;32m     16\u001B[0m       \u001B[0mdest\u001B[0m \u001B[0;34m=\u001B[0m \u001B[0;34m(\u001B[0m\u001B[0mlat2\u001B[0m\u001B[0;34m,\u001B[0m\u001B[0mlong2\u001B[0m\u001B[0;34m)\u001B[0m\u001B[0;34m\u001B[0m\u001B[0;34m\u001B[0m\u001B[0m\n\u001B[1;32m     17\u001B[0m       \u001B[0mdist\u001B[0m \u001B[0;34m=\u001B[0m \u001B[0mgeodesic\u001B[0m\u001B[0;34m(\u001B[0m\u001B[0morigin\u001B[0m\u001B[0;34m,\u001B[0m\u001B[0mdest\u001B[0m\u001B[0;34m)\u001B[0m\u001B[0;34m.\u001B[0m\u001B[0mkm\u001B[0m\u001B[0;34m\u001B[0m\u001B[0;34m\u001B[0m\u001B[0m\n",
      "\u001B[0;32m/usr/local/lib/python3.7/dist-packages/pandas/core/indexing.py\u001B[0m in \u001B[0;36m__getitem__\u001B[0;34m(self, key)\u001B[0m\n\u001B[1;32m    871\u001B[0m                     \u001B[0;31m# AttributeError for IntervalTree get_value\u001B[0m\u001B[0;34m\u001B[0m\u001B[0;34m\u001B[0m\u001B[0;34m\u001B[0m\u001B[0m\n\u001B[1;32m    872\u001B[0m                     \u001B[0;32mpass\u001B[0m\u001B[0;34m\u001B[0m\u001B[0;34m\u001B[0m\u001B[0m\n\u001B[0;32m--> 873\u001B[0;31m             \u001B[0;32mreturn\u001B[0m \u001B[0mself\u001B[0m\u001B[0;34m.\u001B[0m\u001B[0m_getitem_tuple\u001B[0m\u001B[0;34m(\u001B[0m\u001B[0mkey\u001B[0m\u001B[0;34m)\u001B[0m\u001B[0;34m\u001B[0m\u001B[0;34m\u001B[0m\u001B[0m\n\u001B[0m\u001B[1;32m    874\u001B[0m         \u001B[0;32melse\u001B[0m\u001B[0;34m:\u001B[0m\u001B[0;34m\u001B[0m\u001B[0;34m\u001B[0m\u001B[0m\n\u001B[1;32m    875\u001B[0m             \u001B[0;31m# we by definition only have the 0th axis\u001B[0m\u001B[0;34m\u001B[0m\u001B[0;34m\u001B[0m\u001B[0;34m\u001B[0m\u001B[0m\n",
      "\u001B[0;32m/usr/local/lib/python3.7/dist-packages/pandas/core/indexing.py\u001B[0m in \u001B[0;36m_getitem_tuple\u001B[0;34m(self, tup)\u001B[0m\n\u001B[1;32m   1042\u001B[0m     \u001B[0;32mdef\u001B[0m \u001B[0m_getitem_tuple\u001B[0m\u001B[0;34m(\u001B[0m\u001B[0mself\u001B[0m\u001B[0;34m,\u001B[0m \u001B[0mtup\u001B[0m\u001B[0;34m:\u001B[0m \u001B[0mTuple\u001B[0m\u001B[0;34m)\u001B[0m\u001B[0;34m:\u001B[0m\u001B[0;34m\u001B[0m\u001B[0;34m\u001B[0m\u001B[0m\n\u001B[1;32m   1043\u001B[0m         \u001B[0;32mtry\u001B[0m\u001B[0;34m:\u001B[0m\u001B[0;34m\u001B[0m\u001B[0;34m\u001B[0m\u001B[0m\n\u001B[0;32m-> 1044\u001B[0;31m             \u001B[0;32mreturn\u001B[0m \u001B[0mself\u001B[0m\u001B[0;34m.\u001B[0m\u001B[0m_getitem_lowerdim\u001B[0m\u001B[0;34m(\u001B[0m\u001B[0mtup\u001B[0m\u001B[0;34m)\u001B[0m\u001B[0;34m\u001B[0m\u001B[0;34m\u001B[0m\u001B[0m\n\u001B[0m\u001B[1;32m   1045\u001B[0m         \u001B[0;32mexcept\u001B[0m \u001B[0mIndexingError\u001B[0m\u001B[0;34m:\u001B[0m\u001B[0;34m\u001B[0m\u001B[0;34m\u001B[0m\u001B[0m\n\u001B[1;32m   1046\u001B[0m             \u001B[0;32mpass\u001B[0m\u001B[0;34m\u001B[0m\u001B[0;34m\u001B[0m\u001B[0m\n",
      "\u001B[0;32m/usr/local/lib/python3.7/dist-packages/pandas/core/indexing.py\u001B[0m in \u001B[0;36m_getitem_lowerdim\u001B[0;34m(self, tup)\u001B[0m\n\u001B[1;32m    808\u001B[0m                     \u001B[0;32mreturn\u001B[0m \u001B[0msection\u001B[0m\u001B[0;34m\u001B[0m\u001B[0;34m\u001B[0m\u001B[0m\n\u001B[1;32m    809\u001B[0m                 \u001B[0;31m# This is an elided recursive call to iloc/loc\u001B[0m\u001B[0;34m\u001B[0m\u001B[0;34m\u001B[0m\u001B[0;34m\u001B[0m\u001B[0m\n\u001B[0;32m--> 810\u001B[0;31m                 \u001B[0;32mreturn\u001B[0m \u001B[0mgetattr\u001B[0m\u001B[0;34m(\u001B[0m\u001B[0msection\u001B[0m\u001B[0;34m,\u001B[0m \u001B[0mself\u001B[0m\u001B[0;34m.\u001B[0m\u001B[0mname\u001B[0m\u001B[0;34m)\u001B[0m\u001B[0;34m[\u001B[0m\u001B[0mnew_key\u001B[0m\u001B[0;34m]\u001B[0m\u001B[0;34m\u001B[0m\u001B[0;34m\u001B[0m\u001B[0m\n\u001B[0m\u001B[1;32m    811\u001B[0m \u001B[0;34m\u001B[0m\u001B[0m\n\u001B[1;32m    812\u001B[0m         \u001B[0;32mraise\u001B[0m \u001B[0mIndexingError\u001B[0m\u001B[0;34m(\u001B[0m\u001B[0;34m\"not applicable\"\u001B[0m\u001B[0;34m)\u001B[0m\u001B[0;34m\u001B[0m\u001B[0;34m\u001B[0m\u001B[0m\n",
      "\u001B[0;32m/usr/local/lib/python3.7/dist-packages/pandas/core/indexing.py\u001B[0m in \u001B[0;36m__getitem__\u001B[0;34m(self, key)\u001B[0m\n\u001B[1;32m    877\u001B[0m \u001B[0;34m\u001B[0m\u001B[0m\n\u001B[1;32m    878\u001B[0m             \u001B[0mmaybe_callable\u001B[0m \u001B[0;34m=\u001B[0m \u001B[0mcom\u001B[0m\u001B[0;34m.\u001B[0m\u001B[0mapply_if_callable\u001B[0m\u001B[0;34m(\u001B[0m\u001B[0mkey\u001B[0m\u001B[0;34m,\u001B[0m \u001B[0mself\u001B[0m\u001B[0;34m.\u001B[0m\u001B[0mobj\u001B[0m\u001B[0;34m)\u001B[0m\u001B[0;34m\u001B[0m\u001B[0;34m\u001B[0m\u001B[0m\n\u001B[0;32m--> 879\u001B[0;31m             \u001B[0;32mreturn\u001B[0m \u001B[0mself\u001B[0m\u001B[0;34m.\u001B[0m\u001B[0m_getitem_axis\u001B[0m\u001B[0;34m(\u001B[0m\u001B[0mmaybe_callable\u001B[0m\u001B[0;34m,\u001B[0m \u001B[0maxis\u001B[0m\u001B[0;34m=\u001B[0m\u001B[0maxis\u001B[0m\u001B[0;34m)\u001B[0m\u001B[0;34m\u001B[0m\u001B[0;34m\u001B[0m\u001B[0m\n\u001B[0m\u001B[1;32m    880\u001B[0m \u001B[0;34m\u001B[0m\u001B[0m\n\u001B[1;32m    881\u001B[0m     \u001B[0;32mdef\u001B[0m \u001B[0m_is_scalar_access\u001B[0m\u001B[0;34m(\u001B[0m\u001B[0mself\u001B[0m\u001B[0;34m,\u001B[0m \u001B[0mkey\u001B[0m\u001B[0;34m:\u001B[0m \u001B[0mTuple\u001B[0m\u001B[0;34m)\u001B[0m\u001B[0;34m:\u001B[0m\u001B[0;34m\u001B[0m\u001B[0;34m\u001B[0m\u001B[0m\n",
      "\u001B[0;32m/usr/local/lib/python3.7/dist-packages/pandas/core/indexing.py\u001B[0m in \u001B[0;36m_getitem_axis\u001B[0;34m(self, key, axis)\u001B[0m\n\u001B[1;32m   1108\u001B[0m         \u001B[0;31m# fall thru to straight lookup\u001B[0m\u001B[0;34m\u001B[0m\u001B[0;34m\u001B[0m\u001B[0;34m\u001B[0m\u001B[0m\n\u001B[1;32m   1109\u001B[0m         \u001B[0mself\u001B[0m\u001B[0;34m.\u001B[0m\u001B[0m_validate_key\u001B[0m\u001B[0;34m(\u001B[0m\u001B[0mkey\u001B[0m\u001B[0;34m,\u001B[0m \u001B[0maxis\u001B[0m\u001B[0;34m)\u001B[0m\u001B[0;34m\u001B[0m\u001B[0;34m\u001B[0m\u001B[0m\n\u001B[0;32m-> 1110\u001B[0;31m         \u001B[0;32mreturn\u001B[0m \u001B[0mself\u001B[0m\u001B[0;34m.\u001B[0m\u001B[0m_get_label\u001B[0m\u001B[0;34m(\u001B[0m\u001B[0mkey\u001B[0m\u001B[0;34m,\u001B[0m \u001B[0maxis\u001B[0m\u001B[0;34m=\u001B[0m\u001B[0maxis\u001B[0m\u001B[0;34m)\u001B[0m\u001B[0;34m\u001B[0m\u001B[0;34m\u001B[0m\u001B[0m\n\u001B[0m\u001B[1;32m   1111\u001B[0m \u001B[0;34m\u001B[0m\u001B[0m\n\u001B[1;32m   1112\u001B[0m     \u001B[0;32mdef\u001B[0m \u001B[0m_get_slice_axis\u001B[0m\u001B[0;34m(\u001B[0m\u001B[0mself\u001B[0m\u001B[0;34m,\u001B[0m \u001B[0mslice_obj\u001B[0m\u001B[0;34m:\u001B[0m \u001B[0mslice\u001B[0m\u001B[0;34m,\u001B[0m \u001B[0maxis\u001B[0m\u001B[0;34m:\u001B[0m \u001B[0mint\u001B[0m\u001B[0;34m)\u001B[0m\u001B[0;34m:\u001B[0m\u001B[0;34m\u001B[0m\u001B[0;34m\u001B[0m\u001B[0m\n",
      "\u001B[0;32m/usr/local/lib/python3.7/dist-packages/pandas/core/indexing.py\u001B[0m in \u001B[0;36m_get_label\u001B[0;34m(self, label, axis)\u001B[0m\n\u001B[1;32m   1057\u001B[0m     \u001B[0;32mdef\u001B[0m \u001B[0m_get_label\u001B[0m\u001B[0;34m(\u001B[0m\u001B[0mself\u001B[0m\u001B[0;34m,\u001B[0m \u001B[0mlabel\u001B[0m\u001B[0;34m,\u001B[0m \u001B[0maxis\u001B[0m\u001B[0;34m:\u001B[0m \u001B[0mint\u001B[0m\u001B[0;34m)\u001B[0m\u001B[0;34m:\u001B[0m\u001B[0;34m\u001B[0m\u001B[0;34m\u001B[0m\u001B[0m\n\u001B[1;32m   1058\u001B[0m         \u001B[0;31m# GH#5667 this will fail if the label is not present in the axis.\u001B[0m\u001B[0;34m\u001B[0m\u001B[0;34m\u001B[0m\u001B[0;34m\u001B[0m\u001B[0m\n\u001B[0;32m-> 1059\u001B[0;31m         \u001B[0;32mreturn\u001B[0m \u001B[0mself\u001B[0m\u001B[0;34m.\u001B[0m\u001B[0mobj\u001B[0m\u001B[0;34m.\u001B[0m\u001B[0mxs\u001B[0m\u001B[0;34m(\u001B[0m\u001B[0mlabel\u001B[0m\u001B[0;34m,\u001B[0m \u001B[0maxis\u001B[0m\u001B[0;34m=\u001B[0m\u001B[0maxis\u001B[0m\u001B[0;34m)\u001B[0m\u001B[0;34m\u001B[0m\u001B[0;34m\u001B[0m\u001B[0m\n\u001B[0m\u001B[1;32m   1060\u001B[0m \u001B[0;34m\u001B[0m\u001B[0m\n\u001B[1;32m   1061\u001B[0m     \u001B[0;32mdef\u001B[0m \u001B[0m_handle_lowerdim_multi_index_axis0\u001B[0m\u001B[0;34m(\u001B[0m\u001B[0mself\u001B[0m\u001B[0;34m,\u001B[0m \u001B[0mtup\u001B[0m\u001B[0;34m:\u001B[0m \u001B[0mTuple\u001B[0m\u001B[0;34m)\u001B[0m\u001B[0;34m:\u001B[0m\u001B[0;34m\u001B[0m\u001B[0;34m\u001B[0m\u001B[0m\n",
      "\u001B[0;32m/usr/local/lib/python3.7/dist-packages/pandas/core/generic.py\u001B[0m in \u001B[0;36mxs\u001B[0;34m(self, key, axis, level, drop_level)\u001B[0m\n\u001B[1;32m   3491\u001B[0m             \u001B[0mloc\u001B[0m\u001B[0;34m,\u001B[0m \u001B[0mnew_index\u001B[0m \u001B[0;34m=\u001B[0m \u001B[0mself\u001B[0m\u001B[0;34m.\u001B[0m\u001B[0mindex\u001B[0m\u001B[0;34m.\u001B[0m\u001B[0mget_loc_level\u001B[0m\u001B[0;34m(\u001B[0m\u001B[0mkey\u001B[0m\u001B[0;34m,\u001B[0m \u001B[0mdrop_level\u001B[0m\u001B[0;34m=\u001B[0m\u001B[0mdrop_level\u001B[0m\u001B[0;34m)\u001B[0m\u001B[0;34m\u001B[0m\u001B[0;34m\u001B[0m\u001B[0m\n\u001B[1;32m   3492\u001B[0m         \u001B[0;32melse\u001B[0m\u001B[0;34m:\u001B[0m\u001B[0;34m\u001B[0m\u001B[0;34m\u001B[0m\u001B[0m\n\u001B[0;32m-> 3493\u001B[0;31m             \u001B[0mloc\u001B[0m \u001B[0;34m=\u001B[0m \u001B[0mself\u001B[0m\u001B[0;34m.\u001B[0m\u001B[0mindex\u001B[0m\u001B[0;34m.\u001B[0m\u001B[0mget_loc\u001B[0m\u001B[0;34m(\u001B[0m\u001B[0mkey\u001B[0m\u001B[0;34m)\u001B[0m\u001B[0;34m\u001B[0m\u001B[0;34m\u001B[0m\u001B[0m\n\u001B[0m\u001B[1;32m   3494\u001B[0m \u001B[0;34m\u001B[0m\u001B[0m\n\u001B[1;32m   3495\u001B[0m             \u001B[0;32mif\u001B[0m \u001B[0misinstance\u001B[0m\u001B[0;34m(\u001B[0m\u001B[0mloc\u001B[0m\u001B[0;34m,\u001B[0m \u001B[0mnp\u001B[0m\u001B[0;34m.\u001B[0m\u001B[0mndarray\u001B[0m\u001B[0;34m)\u001B[0m\u001B[0;34m:\u001B[0m\u001B[0;34m\u001B[0m\u001B[0;34m\u001B[0m\u001B[0m\n",
      "\u001B[0;32m/usr/local/lib/python3.7/dist-packages/pandas/core/indexes/base.py\u001B[0m in \u001B[0;36mget_loc\u001B[0;34m(self, key, method, tolerance)\u001B[0m\n\u001B[1;32m   2898\u001B[0m                 \u001B[0;32mreturn\u001B[0m \u001B[0mself\u001B[0m\u001B[0;34m.\u001B[0m\u001B[0m_engine\u001B[0m\u001B[0;34m.\u001B[0m\u001B[0mget_loc\u001B[0m\u001B[0;34m(\u001B[0m\u001B[0mcasted_key\u001B[0m\u001B[0;34m)\u001B[0m\u001B[0;34m\u001B[0m\u001B[0;34m\u001B[0m\u001B[0m\n\u001B[1;32m   2899\u001B[0m             \u001B[0;32mexcept\u001B[0m \u001B[0mKeyError\u001B[0m \u001B[0;32mas\u001B[0m \u001B[0merr\u001B[0m\u001B[0;34m:\u001B[0m\u001B[0;34m\u001B[0m\u001B[0;34m\u001B[0m\u001B[0m\n\u001B[0;32m-> 2900\u001B[0;31m                 \u001B[0;32mraise\u001B[0m \u001B[0mKeyError\u001B[0m\u001B[0;34m(\u001B[0m\u001B[0mkey\u001B[0m\u001B[0;34m)\u001B[0m \u001B[0;32mfrom\u001B[0m \u001B[0merr\u001B[0m\u001B[0;34m\u001B[0m\u001B[0;34m\u001B[0m\u001B[0m\n\u001B[0m\u001B[1;32m   2901\u001B[0m \u001B[0;34m\u001B[0m\u001B[0m\n\u001B[1;32m   2902\u001B[0m         \u001B[0;32mif\u001B[0m \u001B[0mtolerance\u001B[0m \u001B[0;32mis\u001B[0m \u001B[0;32mnot\u001B[0m \u001B[0;32mNone\u001B[0m\u001B[0;34m:\u001B[0m\u001B[0;34m\u001B[0m\u001B[0;34m\u001B[0m\u001B[0m\n",
      "\u001B[0;31mKeyError\u001B[0m: 'long'"
     ]
    }
   ]
  },
  {
   "cell_type": "code",
   "metadata": {
    "id": "pyBqr4ELBtjq"
   },
   "source": [
    "df.to_csv('./processed/df.csv')"
   ],
   "execution_count": null,
   "outputs": []
  },
  {
   "cell_type": "markdown",
   "metadata": {
    "id": "YrbSAkGiBmjJ"
   },
   "source": [
    "# Run section for eating_establishments and parks, without re-running already completed sections."
   ]
  },
  {
   "cell_type": "code",
   "metadata": {
    "colab": {
     "base_uri": "https://localhost:8080/",
     "height": 1000
    },
    "id": "T98lLcoC-kA4",
    "executionInfo": {
     "status": "ok",
     "timestamp": 1635945957579,
     "user_tz": -480,
     "elapsed": 905,
     "user": {
      "displayName": "Ansel Lim",
      "photoUrl": "https://lh3.googleusercontent.com/a/default-user=s64",
      "userId": "11711723797633555065"
     }
    },
    "outputId": "9dd1db23-fc77-4efb-f216-ebfdd2d846d2"
   },
   "source": [
    "eating_establishments"
   ],
   "execution_count": 32,
   "outputs": [
    {
     "output_type": "execute_result",
     "data": {
      "text/html": [
       "<div>\n",
       "<style scoped>\n",
       "    .dataframe tbody tr th:only-of-type {\n",
       "        vertical-align: middle;\n",
       "    }\n",
       "\n",
       "    .dataframe tbody tr th {\n",
       "        vertical-align: top;\n",
       "    }\n",
       "\n",
       "    .dataframe thead th {\n",
       "        text-align: right;\n",
       "    }\n",
       "</style>\n",
       "<table border=\"1\" class=\"dataframe\">\n",
       "  <thead>\n",
       "    <tr style=\"text-align: right;\">\n",
       "      <th></th>\n",
       "      <th>Unnamed: 0</th>\n",
       "      <th>Name</th>\n",
       "      <th>Description</th>\n",
       "      <th>geometry</th>\n",
       "      <th>lat</th>\n",
       "      <th>lon</th>\n",
       "      <th>business_name</th>\n",
       "    </tr>\n",
       "  </thead>\n",
       "  <tbody>\n",
       "    <tr>\n",
       "      <th>0</th>\n",
       "      <td>0</td>\n",
       "      <td>kml_1</td>\n",
       "      <td>&lt;center&gt;&lt;table&gt;&lt;tr&gt;&lt;th colspan='2' align='cent...</td>\n",
       "      <td>POINT Z (103.857675501543 1.29487905112126 0)</td>\n",
       "      <td>1.294879</td>\n",
       "      <td>103.857676</td>\n",
       "      <td>OMU</td>\n",
       "    </tr>\n",
       "    <tr>\n",
       "      <th>1</th>\n",
       "      <td>1</td>\n",
       "      <td>kml_2</td>\n",
       "      <td>&lt;center&gt;&lt;table&gt;&lt;tr&gt;&lt;th colspan='2' align='cent...</td>\n",
       "      <td>POINT Z (103.857675501543 1.29487905112126 0)</td>\n",
       "      <td>1.294879</td>\n",
       "      <td>103.857676</td>\n",
       "      <td>Unknown business name</td>\n",
       "    </tr>\n",
       "    <tr>\n",
       "      <th>2</th>\n",
       "      <td>2</td>\n",
       "      <td>kml_3</td>\n",
       "      <td>&lt;center&gt;&lt;table&gt;&lt;tr&gt;&lt;th colspan='2' align='cent...</td>\n",
       "      <td>POINT Z (103.857675501543 1.29487905112126 0)</td>\n",
       "      <td>1.294879</td>\n",
       "      <td>103.857676</td>\n",
       "      <td>Unknown business name</td>\n",
       "    </tr>\n",
       "    <tr>\n",
       "      <th>3</th>\n",
       "      <td>3</td>\n",
       "      <td>kml_4</td>\n",
       "      <td>&lt;center&gt;&lt;table&gt;&lt;tr&gt;&lt;th colspan='2' align='cent...</td>\n",
       "      <td>POINT Z (103.858505749339 1.28355872540745 0)</td>\n",
       "      <td>1.283559</td>\n",
       "      <td>103.858506</td>\n",
       "      <td>PPUDO</td>\n",
       "    </tr>\n",
       "    <tr>\n",
       "      <th>4</th>\n",
       "      <td>4</td>\n",
       "      <td>kml_5</td>\n",
       "      <td>&lt;center&gt;&lt;table&gt;&lt;tr&gt;&lt;th colspan='2' align='cent...</td>\n",
       "      <td>POINT Z (103.858505749339 1.28355872540745 0)</td>\n",
       "      <td>1.283559</td>\n",
       "      <td>103.858506</td>\n",
       "      <td>Unknown business name</td>\n",
       "    </tr>\n",
       "    <tr>\n",
       "      <th>...</th>\n",
       "      <td>...</td>\n",
       "      <td>...</td>\n",
       "      <td>...</td>\n",
       "      <td>...</td>\n",
       "      <td>...</td>\n",
       "      <td>...</td>\n",
       "      <td>...</td>\n",
       "    </tr>\n",
       "    <tr>\n",
       "      <th>34373</th>\n",
       "      <td>34373</td>\n",
       "      <td>kml_34374</td>\n",
       "      <td>&lt;center&gt;&lt;table&gt;&lt;tr&gt;&lt;th colspan='2' align='cent...</td>\n",
       "      <td>POINT Z (103.895103199652 1.35963370805796 0)</td>\n",
       "      <td>1.359634</td>\n",
       "      <td>103.895103</td>\n",
       "      <td>Unknown business name</td>\n",
       "    </tr>\n",
       "    <tr>\n",
       "      <th>34374</th>\n",
       "      <td>34374</td>\n",
       "      <td>kml_34375</td>\n",
       "      <td>&lt;center&gt;&lt;table&gt;&lt;tr&gt;&lt;th colspan='2' align='cent...</td>\n",
       "      <td>POINT Z (103.89359287972 1.39150507204754 0)</td>\n",
       "      <td>1.391505</td>\n",
       "      <td>103.893593</td>\n",
       "      <td>Unknown business name</td>\n",
       "    </tr>\n",
       "    <tr>\n",
       "      <th>34375</th>\n",
       "      <td>34375</td>\n",
       "      <td>kml_34376</td>\n",
       "      <td>&lt;center&gt;&lt;table&gt;&lt;tr&gt;&lt;th colspan='2' align='cent...</td>\n",
       "      <td>POINT Z (103.742586015051 1.33402529468935 0)</td>\n",
       "      <td>1.334025</td>\n",
       "      <td>103.742586</td>\n",
       "      <td>Unknown business name</td>\n",
       "    </tr>\n",
       "    <tr>\n",
       "      <th>34376</th>\n",
       "      <td>34376</td>\n",
       "      <td>kml_34377</td>\n",
       "      <td>&lt;center&gt;&lt;table&gt;&lt;tr&gt;&lt;th colspan='2' align='cent...</td>\n",
       "      <td>POINT Z (103.887857189653 1.35530903339479 0)</td>\n",
       "      <td>1.355309</td>\n",
       "      <td>103.887857</td>\n",
       "      <td>Unknown business name</td>\n",
       "    </tr>\n",
       "    <tr>\n",
       "      <th>34377</th>\n",
       "      <td>34377</td>\n",
       "      <td>kml_34378</td>\n",
       "      <td>&lt;center&gt;&lt;table&gt;&lt;tr&gt;&lt;th colspan='2' align='cent...</td>\n",
       "      <td>POINT Z (103.887857189653 1.35530903339479 0)</td>\n",
       "      <td>1.355309</td>\n",
       "      <td>103.887857</td>\n",
       "      <td>Unknown business name</td>\n",
       "    </tr>\n",
       "  </tbody>\n",
       "</table>\n",
       "<p>34378 rows × 7 columns</p>\n",
       "</div>"
      ],
      "text/plain": [
       "       Unnamed: 0       Name  ...         lon          business_name\n",
       "0               0      kml_1  ...  103.857676                    OMU\n",
       "1               1      kml_2  ...  103.857676  Unknown business name\n",
       "2               2      kml_3  ...  103.857676  Unknown business name\n",
       "3               3      kml_4  ...  103.858506                  PPUDO\n",
       "4               4      kml_5  ...  103.858506  Unknown business name\n",
       "...           ...        ...  ...         ...                    ...\n",
       "34373       34373  kml_34374  ...  103.895103  Unknown business name\n",
       "34374       34374  kml_34375  ...  103.893593  Unknown business name\n",
       "34375       34375  kml_34376  ...  103.742586  Unknown business name\n",
       "34376       34376  kml_34377  ...  103.887857  Unknown business name\n",
       "34377       34377  kml_34378  ...  103.887857  Unknown business name\n",
       "\n",
       "[34378 rows x 7 columns]"
      ]
     },
     "metadata": {},
     "execution_count": 32
    }
   ]
  },
  {
   "cell_type": "code",
   "metadata": {
    "colab": {
     "base_uri": "https://localhost:8080/"
    },
    "id": "9NK9lBmC-Oeh",
    "executionInfo": {
     "status": "ok",
     "timestamp": 1635959428412,
     "user_tz": -480,
     "elapsed": 13447398,
     "user": {
      "displayName": "Ansel Lim",
      "photoUrl": "https://lh3.googleusercontent.com/a/default-user=s64",
      "userId": "11711723797633555065"
     }
    },
    "outputId": "46595aa8-7e96-4756-86ae-bc6195ef911b"
   },
   "source": [
    "eating_establishments_=eating_establishments.rename(columns={'lon':'long'})\n",
    "places = [eating_establishments_]\n",
    "places_names= ['eating_establishments_']\n",
    "start=time.time()\n",
    "for i in range(len(places)):\n",
    "  dataframe = places[i]\n",
    "  place_name = places_names[i]\n",
    "  print(\"Working on feature dataframe {}\".format(place_name))\n",
    "  new_column_name = \"num_\"+place_name\n",
    "  df[new_column_name] = 0\n",
    "  for i in range(df.shape[0]):\n",
    "    lat1 = df.loc[i,\"lat\"]\n",
    "    long1 = df.loc[i,\"long\"]\n",
    "    origin = (lat1,long1)\n",
    "    counter = 0\n",
    "    for j in range(dataframe.shape[0]):\n",
    "      lat2 = dataframe.loc[j,\"lat\"]\n",
    "      long2 = dataframe.loc[j,\"long\"]\n",
    "      dest = (lat2,long2)\n",
    "      dist = geodesic(origin,dest).km\n",
    "      if dist<=RADIUS:\n",
    "        counter+=1\n",
    "    df.loc[i,new_column_name]=counter\n",
    "end=time.time()\n",
    "print(\"time taken: {}\".format(end-start))"
   ],
   "execution_count": 33,
   "outputs": [
    {
     "output_type": "stream",
     "name": "stdout",
     "text": [
      "Working on feature dataframe eating_establishments_\n",
      "time taken: 13446.645763158798\n"
     ]
    }
   ]
  },
  {
   "cell_type": "code",
   "metadata": {
    "id": "8K99AeSSyKPV",
    "executionInfo": {
     "status": "ok",
     "timestamp": 1635959428412,
     "user_tz": -480,
     "elapsed": 11,
     "user": {
      "displayName": "Ansel Lim",
      "photoUrl": "https://lh3.googleusercontent.com/a/default-user=s64",
      "userId": "11711723797633555065"
     }
    }
   },
   "source": [
    "df.to_csv('./processed/df.csv')"
   ],
   "execution_count": 34,
   "outputs": []
  },
  {
   "cell_type": "code",
   "metadata": {
    "id": "eBDycmhi-xis"
   },
   "source": [
    "eating_establishments_=eating_establishments.rename(columns={'lon':'long'})\n",
    "places = [eating_establishments_]\n",
    "places_names= ['eating_establishments_']\n",
    "start=time.time()\n",
    "for i in range(len(places)):\n",
    "  dataframe = places[i]\n",
    "  place_name = places_names[i]\n",
    "  print(\"Working on feature dataframe {}\".format(place_name))\n",
    "  new_column_name = \"num_\"+place_name\n",
    "  df[new_column_name] = 0\n",
    "  for i in range(df.shape[0]):\n",
    "    lat1 = df.loc[i,\"lat\"]\n",
    "    long1 = df.loc[i,\"long\"]\n",
    "    origin = (lat1,long1)\n",
    "    counter = 0\n",
    "    for j in range(dataframe.shape[0]):\n",
    "      lat2 = dataframe.loc[j,\"lat\"]\n",
    "      long2 = dataframe.loc[j,\"long\"]\n",
    "      dest = (lat2,long2)\n",
    "      dist = geodesic(origin,dest).km\n",
    "      if dist<=RADIUS:\n",
    "        counter+=1\n",
    "    df.loc[i,new_column_name]=counter\n",
    "end=time.time()\n",
    "print(\"time taken: {}\".format(end-start))"
   ],
   "execution_count": null,
   "outputs": []
  },
  {
   "cell_type": "code",
   "metadata": {
    "colab": {
     "base_uri": "https://localhost:8080/"
    },
    "id": "YwkJadxrBAuW",
    "executionInfo": {
     "status": "ok",
     "timestamp": 1635959571633,
     "user_tz": -480,
     "elapsed": 140762,
     "user": {
      "displayName": "Ansel Lim",
      "photoUrl": "https://lh3.googleusercontent.com/a/default-user=s64",
      "userId": "11711723797633555065"
     }
    },
    "outputId": "37cb9421-d627-4027-aa9c-492ba310f076"
   },
   "source": [
    "\n",
    "places = [parks]\n",
    "places_names= ['parks']\n",
    "start=time.time()\n",
    "for i in range(len(places)):\n",
    "  dataframe = places[i]\n",
    "  place_name = places_names[i]\n",
    "  print(\"Working on feature dataframe {}\".format(place_name))\n",
    "  new_column_name = \"num_\"+place_name\n",
    "  df[new_column_name] = 0\n",
    "  for i in range(df.shape[0]):\n",
    "    lat1 = df.loc[i,\"lat\"]\n",
    "    long1 = df.loc[i,\"long\"]\n",
    "    origin = (lat1,long1)\n",
    "    counter = 0\n",
    "    for j in range(dataframe.shape[0]):\n",
    "      lat2 = dataframe.loc[j,\"lat\"]\n",
    "      long2 = dataframe.loc[j,\"long\"]\n",
    "      dest = (lat2,long2)\n",
    "      dist = geodesic(origin,dest).km\n",
    "      if dist<=RADIUS:\n",
    "        counter+=1\n",
    "    df.loc[i,new_column_name]=counter\n",
    "end=time.time()\n",
    "print(\"time taken: {}\".format(end-start))"
   ],
   "execution_count": 36,
   "outputs": [
    {
     "output_type": "stream",
     "name": "stdout",
     "text": [
      "Working on feature dataframe parks\n",
      "time taken: 140.69643354415894\n"
     ]
    }
   ]
  },
  {
   "cell_type": "code",
   "metadata": {
    "id": "-Pn87F3uBkZn",
    "executionInfo": {
     "status": "ok",
     "timestamp": 1635959571633,
     "user_tz": -480,
     "elapsed": 11,
     "user": {
      "displayName": "Ansel Lim",
      "photoUrl": "https://lh3.googleusercontent.com/a/default-user=s64",
      "userId": "11711723797633555065"
     }
    }
   },
   "source": [
    "df.to_csv('./processed/df.csv')"
   ],
   "execution_count": 37,
   "outputs": []
  },
  {
   "cell_type": "code",
   "metadata": {
    "id": "8vX07dgmB2MM"
   },
   "source": [
    ""
   ],
   "execution_count": null,
   "outputs": []
  }
 ]
}